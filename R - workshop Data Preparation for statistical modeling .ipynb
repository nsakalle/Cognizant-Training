{
 "cells": [
  {
   "cell_type": "markdown",
   "metadata": {},
   "source": [
    "# Part 1 Data Preporcessing"
   ]
  },
  {
   "cell_type": "markdown",
   "metadata": {},
   "source": [
    "## 1.0 Data Load"
   ]
  },
  {
   "cell_type": "code",
   "execution_count": 143,
   "metadata": {
    "collapsed": true
   },
   "outputs": [],
   "source": [
    "# Setting up path\n",
    "\n",
    "setwd(\"C:/Udemy Machine Learning/Machine Learning A-Z Template Folder/Part 1 - Data Preprocessing/\")"
   ]
  },
  {
   "cell_type": "code",
   "execution_count": 144,
   "metadata": {},
   "outputs": [],
   "source": [
    "dataset = read.csv('data.csv')\n"
   ]
  },
  {
   "cell_type": "code",
   "execution_count": 13,
   "metadata": {},
   "outputs": [
    {
     "data": {
      "text/html": [
       "<table>\n",
       "<thead><tr><th scope=col>Country</th><th scope=col>Age</th><th scope=col>Salary</th><th scope=col>Purchased</th></tr></thead>\n",
       "<tbody>\n",
       "\t<tr><td>France </td><td>44     </td><td>72000  </td><td>No     </td></tr>\n",
       "\t<tr><td>Spain  </td><td>27     </td><td>48000  </td><td>Yes    </td></tr>\n",
       "\t<tr><td>Germany</td><td>30     </td><td>54000  </td><td>No     </td></tr>\n",
       "\t<tr><td>Spain  </td><td>38     </td><td>61000  </td><td>No     </td></tr>\n",
       "\t<tr><td>Germany</td><td>40     </td><td>   NA  </td><td>Yes    </td></tr>\n",
       "\t<tr><td>France </td><td>35     </td><td>58000  </td><td>Yes    </td></tr>\n",
       "\t<tr><td>Spain  </td><td>NA     </td><td>52000  </td><td>No     </td></tr>\n",
       "\t<tr><td>France </td><td>48     </td><td>79000  </td><td>Yes    </td></tr>\n",
       "\t<tr><td>Germany</td><td>50     </td><td>83000  </td><td>No     </td></tr>\n",
       "\t<tr><td>France </td><td>37     </td><td>67000  </td><td>Yes    </td></tr>\n",
       "</tbody>\n",
       "</table>\n"
      ],
      "text/latex": [
       "\\begin{tabular}{r|llll}\n",
       " Country & Age & Salary & Purchased\\\\\n",
       "\\hline\n",
       "\t France  & 44      & 72000   & No     \\\\\n",
       "\t Spain   & 27      & 48000   & Yes    \\\\\n",
       "\t Germany & 30      & 54000   & No     \\\\\n",
       "\t Spain   & 38      & 61000   & No     \\\\\n",
       "\t Germany & 40      &    NA   & Yes    \\\\\n",
       "\t France  & 35      & 58000   & Yes    \\\\\n",
       "\t Spain   & NA      & 52000   & No     \\\\\n",
       "\t France  & 48      & 79000   & Yes    \\\\\n",
       "\t Germany & 50      & 83000   & No     \\\\\n",
       "\t France  & 37      & 67000   & Yes    \\\\\n",
       "\\end{tabular}\n"
      ],
      "text/markdown": [
       "\n",
       "Country | Age | Salary | Purchased | \n",
       "|---|---|---|---|---|---|---|---|---|---|\n",
       "| France  | 44      | 72000   | No      | \n",
       "| Spain   | 27      | 48000   | Yes     | \n",
       "| Germany | 30      | 54000   | No      | \n",
       "| Spain   | 38      | 61000   | No      | \n",
       "| Germany | 40      |    NA   | Yes     | \n",
       "| France  | 35      | 58000   | Yes     | \n",
       "| Spain   | NA      | 52000   | No      | \n",
       "| France  | 48      | 79000   | Yes     | \n",
       "| Germany | 50      | 83000   | No      | \n",
       "| France  | 37      | 67000   | Yes     | \n",
       "\n",
       "\n"
      ],
      "text/plain": [
       "   Country Age Salary Purchased\n",
       "1  France  44  72000  No       \n",
       "2  Spain   27  48000  Yes      \n",
       "3  Germany 30  54000  No       \n",
       "4  Spain   38  61000  No       \n",
       "5  Germany 40     NA  Yes      \n",
       "6  France  35  58000  Yes      \n",
       "7  Spain   NA  52000  No       \n",
       "8  France  48  79000  Yes      \n",
       "9  Germany 50  83000  No       \n",
       "10 France  37  67000  Yes      "
      ]
     },
     "metadata": {},
     "output_type": "display_data"
    }
   ],
   "source": [
    "dataset"
   ]
  },
  {
   "cell_type": "markdown",
   "metadata": {},
   "source": [
    "## 2.0 How to fix missing values"
   ]
  },
  {
   "cell_type": "code",
   "execution_count": 145,
   "metadata": {
    "collapsed": true
   },
   "outputs": [],
   "source": [
    "# This command is to replace missing values from dataset to its mean for Age Variable.\n",
    "# If statement to check for Null/NA in Age variable.\n",
    "# $ sign to identify variable\n",
    "# ave(x, …, FUN = mean)\n",
    "\n",
    "dataset$Age = ifelse(is.na(dataset$Age), \n",
    "                     ave(dataset$Age, FUN = function(x) mean(x, na.rm = TRUE)), \n",
    "                     dataset$Age)"
   ]
  },
  {
   "cell_type": "code",
   "execution_count": 146,
   "metadata": {
    "collapsed": true
   },
   "outputs": [],
   "source": [
    "# This command is to replace missing values from dataset to its mean for Salary Variable.\n",
    "# If statement to check for Null/NA in Age variable.\n",
    "# $ sign to identify variable\n",
    "# ave(x, …, FUN = mean)\n",
    "\n",
    "dataset$Salary = ifelse(is.na(dataset$Salary), \n",
    "                        ave(dataset$Salary, FUN = function(x) mean(x, na.rm = TRUE)), \n",
    "                        dataset$Salary)"
   ]
  },
  {
   "cell_type": "code",
   "execution_count": 148,
   "metadata": {},
   "outputs": [
    {
     "data": {
      "text/html": [
       "<table>\n",
       "<thead><tr><th scope=col>Country</th><th scope=col>Age</th><th scope=col>Salary</th><th scope=col>Purchased</th></tr></thead>\n",
       "<tbody>\n",
       "\t<tr><td>France  </td><td>44.00000</td><td>72000.00</td><td>No      </td></tr>\n",
       "\t<tr><td>Spain   </td><td>27.00000</td><td>48000.00</td><td>Yes     </td></tr>\n",
       "\t<tr><td>Germany </td><td>30.00000</td><td>54000.00</td><td>No      </td></tr>\n",
       "\t<tr><td>Spain   </td><td>38.00000</td><td>61000.00</td><td>No      </td></tr>\n",
       "\t<tr><td>Germany </td><td>40.00000</td><td>63777.78</td><td>Yes     </td></tr>\n",
       "\t<tr><td>France  </td><td>35.00000</td><td>58000.00</td><td>Yes     </td></tr>\n",
       "\t<tr><td>Spain   </td><td>38.77778</td><td>52000.00</td><td>No      </td></tr>\n",
       "\t<tr><td>France  </td><td>48.00000</td><td>79000.00</td><td>Yes     </td></tr>\n",
       "\t<tr><td>Germany </td><td>50.00000</td><td>83000.00</td><td>No      </td></tr>\n",
       "\t<tr><td>France  </td><td>37.00000</td><td>67000.00</td><td>Yes     </td></tr>\n",
       "</tbody>\n",
       "</table>\n"
      ],
      "text/latex": [
       "\\begin{tabular}{r|llll}\n",
       " Country & Age & Salary & Purchased\\\\\n",
       "\\hline\n",
       "\t France   & 44.00000 & 72000.00 & No      \\\\\n",
       "\t Spain    & 27.00000 & 48000.00 & Yes     \\\\\n",
       "\t Germany  & 30.00000 & 54000.00 & No      \\\\\n",
       "\t Spain    & 38.00000 & 61000.00 & No      \\\\\n",
       "\t Germany  & 40.00000 & 63777.78 & Yes     \\\\\n",
       "\t France   & 35.00000 & 58000.00 & Yes     \\\\\n",
       "\t Spain    & 38.77778 & 52000.00 & No      \\\\\n",
       "\t France   & 48.00000 & 79000.00 & Yes     \\\\\n",
       "\t Germany  & 50.00000 & 83000.00 & No      \\\\\n",
       "\t France   & 37.00000 & 67000.00 & Yes     \\\\\n",
       "\\end{tabular}\n"
      ],
      "text/markdown": [
       "\n",
       "Country | Age | Salary | Purchased | \n",
       "|---|---|---|---|---|---|---|---|---|---|\n",
       "| France   | 44.00000 | 72000.00 | No       | \n",
       "| Spain    | 27.00000 | 48000.00 | Yes      | \n",
       "| Germany  | 30.00000 | 54000.00 | No       | \n",
       "| Spain    | 38.00000 | 61000.00 | No       | \n",
       "| Germany  | 40.00000 | 63777.78 | Yes      | \n",
       "| France   | 35.00000 | 58000.00 | Yes      | \n",
       "| Spain    | 38.77778 | 52000.00 | No       | \n",
       "| France   | 48.00000 | 79000.00 | Yes      | \n",
       "| Germany  | 50.00000 | 83000.00 | No       | \n",
       "| France   | 37.00000 | 67000.00 | Yes      | \n",
       "\n",
       "\n"
      ],
      "text/plain": [
       "   Country Age      Salary   Purchased\n",
       "1  France  44.00000 72000.00 No       \n",
       "2  Spain   27.00000 48000.00 Yes      \n",
       "3  Germany 30.00000 54000.00 No       \n",
       "4  Spain   38.00000 61000.00 No       \n",
       "5  Germany 40.00000 63777.78 Yes      \n",
       "6  France  35.00000 58000.00 Yes      \n",
       "7  Spain   38.77778 52000.00 No       \n",
       "8  France  48.00000 79000.00 Yes      \n",
       "9  Germany 50.00000 83000.00 No       \n",
       "10 France  37.00000 67000.00 Yes      "
      ]
     },
     "metadata": {},
     "output_type": "display_data"
    }
   ],
   "source": [
    "dataset"
   ]
  },
  {
   "cell_type": "markdown",
   "metadata": {},
   "source": [
    "## 3.0 working with categorical variable"
   ]
  },
  {
   "cell_type": "code",
   "execution_count": 149,
   "metadata": {
    "collapsed": true
   },
   "outputs": [],
   "source": [
    "# Encoding categorical data\n",
    "# We will use factor function and R does not require dummy variable.\n",
    "# factor(x = character(), levels, labels = levels,\n",
    "#       exclude = NA, ordered = is.ordered(x), nmax = NA)\n",
    "\n",
    "dataset$Country = factor(dataset$Country, \n",
    "                         levels = c('France','Spain','Germany'),\n",
    "                         labels = c(1,2,3))"
   ]
  },
  {
   "cell_type": "code",
   "execution_count": 18,
   "metadata": {},
   "outputs": [
    {
     "data": {
      "text/html": [
       "<table>\n",
       "<thead><tr><th scope=col>Country</th><th scope=col>Age</th><th scope=col>Salary</th><th scope=col>Purchased</th></tr></thead>\n",
       "<tbody>\n",
       "\t<tr><td>1       </td><td>44.00000</td><td>72000.00</td><td>No      </td></tr>\n",
       "\t<tr><td>2       </td><td>27.00000</td><td>48000.00</td><td>Yes     </td></tr>\n",
       "\t<tr><td>3       </td><td>30.00000</td><td>54000.00</td><td>No      </td></tr>\n",
       "\t<tr><td>2       </td><td>38.00000</td><td>61000.00</td><td>No      </td></tr>\n",
       "\t<tr><td>3       </td><td>40.00000</td><td>63777.78</td><td>Yes     </td></tr>\n",
       "\t<tr><td>1       </td><td>35.00000</td><td>58000.00</td><td>Yes     </td></tr>\n",
       "\t<tr><td>2       </td><td>38.77778</td><td>52000.00</td><td>No      </td></tr>\n",
       "\t<tr><td>1       </td><td>48.00000</td><td>79000.00</td><td>Yes     </td></tr>\n",
       "\t<tr><td>3       </td><td>50.00000</td><td>83000.00</td><td>No      </td></tr>\n",
       "\t<tr><td>1       </td><td>37.00000</td><td>67000.00</td><td>Yes     </td></tr>\n",
       "</tbody>\n",
       "</table>\n"
      ],
      "text/latex": [
       "\\begin{tabular}{r|llll}\n",
       " Country & Age & Salary & Purchased\\\\\n",
       "\\hline\n",
       "\t 1        & 44.00000 & 72000.00 & No      \\\\\n",
       "\t 2        & 27.00000 & 48000.00 & Yes     \\\\\n",
       "\t 3        & 30.00000 & 54000.00 & No      \\\\\n",
       "\t 2        & 38.00000 & 61000.00 & No      \\\\\n",
       "\t 3        & 40.00000 & 63777.78 & Yes     \\\\\n",
       "\t 1        & 35.00000 & 58000.00 & Yes     \\\\\n",
       "\t 2        & 38.77778 & 52000.00 & No      \\\\\n",
       "\t 1        & 48.00000 & 79000.00 & Yes     \\\\\n",
       "\t 3        & 50.00000 & 83000.00 & No      \\\\\n",
       "\t 1        & 37.00000 & 67000.00 & Yes     \\\\\n",
       "\\end{tabular}\n"
      ],
      "text/markdown": [
       "\n",
       "Country | Age | Salary | Purchased | \n",
       "|---|---|---|---|---|---|---|---|---|---|\n",
       "| 1        | 44.00000 | 72000.00 | No       | \n",
       "| 2        | 27.00000 | 48000.00 | Yes      | \n",
       "| 3        | 30.00000 | 54000.00 | No       | \n",
       "| 2        | 38.00000 | 61000.00 | No       | \n",
       "| 3        | 40.00000 | 63777.78 | Yes      | \n",
       "| 1        | 35.00000 | 58000.00 | Yes      | \n",
       "| 2        | 38.77778 | 52000.00 | No       | \n",
       "| 1        | 48.00000 | 79000.00 | Yes      | \n",
       "| 3        | 50.00000 | 83000.00 | No       | \n",
       "| 1        | 37.00000 | 67000.00 | Yes      | \n",
       "\n",
       "\n"
      ],
      "text/plain": [
       "   Country Age      Salary   Purchased\n",
       "1  1       44.00000 72000.00 No       \n",
       "2  2       27.00000 48000.00 Yes      \n",
       "3  3       30.00000 54000.00 No       \n",
       "4  2       38.00000 61000.00 No       \n",
       "5  3       40.00000 63777.78 Yes      \n",
       "6  1       35.00000 58000.00 Yes      \n",
       "7  2       38.77778 52000.00 No       \n",
       "8  1       48.00000 79000.00 Yes      \n",
       "9  3       50.00000 83000.00 No       \n",
       "10 1       37.00000 67000.00 Yes      "
      ]
     },
     "metadata": {},
     "output_type": "display_data"
    }
   ],
   "source": [
    "dataset"
   ]
  },
  {
   "cell_type": "code",
   "execution_count": 150,
   "metadata": {
    "collapsed": true
   },
   "outputs": [],
   "source": [
    "dataset$Purchased = factor(dataset$Purchased, \n",
    "                         levels = c('No','Yes'),\n",
    "                         labels = c(0,1))"
   ]
  },
  {
   "cell_type": "code",
   "execution_count": 20,
   "metadata": {},
   "outputs": [
    {
     "data": {
      "text/html": [
       "<table>\n",
       "<thead><tr><th scope=col>Country</th><th scope=col>Age</th><th scope=col>Salary</th><th scope=col>Purchased</th></tr></thead>\n",
       "<tbody>\n",
       "\t<tr><td>1       </td><td>44.00000</td><td>72000.00</td><td>0       </td></tr>\n",
       "\t<tr><td>2       </td><td>27.00000</td><td>48000.00</td><td>1       </td></tr>\n",
       "\t<tr><td>3       </td><td>30.00000</td><td>54000.00</td><td>0       </td></tr>\n",
       "\t<tr><td>2       </td><td>38.00000</td><td>61000.00</td><td>0       </td></tr>\n",
       "\t<tr><td>3       </td><td>40.00000</td><td>63777.78</td><td>1       </td></tr>\n",
       "\t<tr><td>1       </td><td>35.00000</td><td>58000.00</td><td>1       </td></tr>\n",
       "\t<tr><td>2       </td><td>38.77778</td><td>52000.00</td><td>0       </td></tr>\n",
       "\t<tr><td>1       </td><td>48.00000</td><td>79000.00</td><td>1       </td></tr>\n",
       "\t<tr><td>3       </td><td>50.00000</td><td>83000.00</td><td>0       </td></tr>\n",
       "\t<tr><td>1       </td><td>37.00000</td><td>67000.00</td><td>1       </td></tr>\n",
       "</tbody>\n",
       "</table>\n"
      ],
      "text/latex": [
       "\\begin{tabular}{r|llll}\n",
       " Country & Age & Salary & Purchased\\\\\n",
       "\\hline\n",
       "\t 1        & 44.00000 & 72000.00 & 0       \\\\\n",
       "\t 2        & 27.00000 & 48000.00 & 1       \\\\\n",
       "\t 3        & 30.00000 & 54000.00 & 0       \\\\\n",
       "\t 2        & 38.00000 & 61000.00 & 0       \\\\\n",
       "\t 3        & 40.00000 & 63777.78 & 1       \\\\\n",
       "\t 1        & 35.00000 & 58000.00 & 1       \\\\\n",
       "\t 2        & 38.77778 & 52000.00 & 0       \\\\\n",
       "\t 1        & 48.00000 & 79000.00 & 1       \\\\\n",
       "\t 3        & 50.00000 & 83000.00 & 0       \\\\\n",
       "\t 1        & 37.00000 & 67000.00 & 1       \\\\\n",
       "\\end{tabular}\n"
      ],
      "text/markdown": [
       "\n",
       "Country | Age | Salary | Purchased | \n",
       "|---|---|---|---|---|---|---|---|---|---|\n",
       "| 1        | 44.00000 | 72000.00 | 0        | \n",
       "| 2        | 27.00000 | 48000.00 | 1        | \n",
       "| 3        | 30.00000 | 54000.00 | 0        | \n",
       "| 2        | 38.00000 | 61000.00 | 0        | \n",
       "| 3        | 40.00000 | 63777.78 | 1        | \n",
       "| 1        | 35.00000 | 58000.00 | 1        | \n",
       "| 2        | 38.77778 | 52000.00 | 0        | \n",
       "| 1        | 48.00000 | 79000.00 | 1        | \n",
       "| 3        | 50.00000 | 83000.00 | 0        | \n",
       "| 1        | 37.00000 | 67000.00 | 1        | \n",
       "\n",
       "\n"
      ],
      "text/plain": [
       "   Country Age      Salary   Purchased\n",
       "1  1       44.00000 72000.00 0        \n",
       "2  2       27.00000 48000.00 1        \n",
       "3  3       30.00000 54000.00 0        \n",
       "4  2       38.00000 61000.00 0        \n",
       "5  3       40.00000 63777.78 1        \n",
       "6  1       35.00000 58000.00 1        \n",
       "7  2       38.77778 52000.00 0        \n",
       "8  1       48.00000 79000.00 1        \n",
       "9  3       50.00000 83000.00 0        \n",
       "10 1       37.00000 67000.00 1        "
      ]
     },
     "metadata": {},
     "output_type": "display_data"
    }
   ],
   "source": [
    "dataset"
   ]
  },
  {
   "cell_type": "markdown",
   "metadata": {},
   "source": [
    "## 4.0 Training and Test Set"
   ]
  },
  {
   "cell_type": "code",
   "execution_count": 110,
   "metadata": {},
   "outputs": [],
   "source": [
    "#install.packages(\"caTools\", repos = \"http://cran.us.r-project.org\")\n",
    "\n",
    "# Contains several basic utility functions including: moving (rolling, running) window statistic functions, \n",
    "# read/write for GIF and ENVI binary files, fast calculation of AUC, LogitBoost classifier, base64 encoder/decoder, \n",
    "# round-off-error-free sum and cumsum, etc."
   ]
  },
  {
   "cell_type": "code",
   "execution_count": 8,
   "metadata": {},
   "outputs": [
    {
     "name": "stderr",
     "output_type": "stream",
     "text": [
      "Warning message:\n",
      "\"package 'caTools' was built under R version 3.3.3\""
     ]
    }
   ],
   "source": [
    "library(caTools)"
   ]
  },
  {
   "cell_type": "code",
   "execution_count": 21,
   "metadata": {},
   "outputs": [],
   "source": [
    "set.seed(123)\n",
    "split = sample.split(dataset$Purchased, SplitRatio = 0.8)"
   ]
  },
  {
   "cell_type": "code",
   "execution_count": 104,
   "metadata": {},
   "outputs": [
    {
     "data": {
      "text/html": [
       "<ol class=list-inline>\n",
       "\t<li>TRUE</li>\n",
       "\t<li>TRUE</li>\n",
       "\t<li>TRUE</li>\n",
       "\t<li>TRUE</li>\n",
       "\t<li>TRUE</li>\n",
       "\t<li>FALSE</li>\n",
       "\t<li>TRUE</li>\n",
       "\t<li>TRUE</li>\n",
       "\t<li>FALSE</li>\n",
       "\t<li>TRUE</li>\n",
       "</ol>\n"
      ],
      "text/latex": [
       "\\begin{enumerate*}\n",
       "\\item TRUE\n",
       "\\item TRUE\n",
       "\\item TRUE\n",
       "\\item TRUE\n",
       "\\item TRUE\n",
       "\\item FALSE\n",
       "\\item TRUE\n",
       "\\item TRUE\n",
       "\\item FALSE\n",
       "\\item TRUE\n",
       "\\end{enumerate*}\n"
      ],
      "text/markdown": [
       "1. TRUE\n",
       "2. TRUE\n",
       "3. TRUE\n",
       "4. TRUE\n",
       "5. TRUE\n",
       "6. FALSE\n",
       "7. TRUE\n",
       "8. TRUE\n",
       "9. FALSE\n",
       "10. TRUE\n",
       "\n",
       "\n"
      ],
      "text/plain": [
       " [1]  TRUE  TRUE  TRUE  TRUE  TRUE FALSE  TRUE  TRUE FALSE  TRUE"
      ]
     },
     "metadata": {},
     "output_type": "display_data"
    }
   ],
   "source": [
    "split"
   ]
  },
  {
   "cell_type": "code",
   "execution_count": 151,
   "metadata": {
    "collapsed": true
   },
   "outputs": [],
   "source": [
    "training_set = subset(dataset, split == TRUE)\n",
    "test_set = subset(dataset, split == FALSE)"
   ]
  },
  {
   "cell_type": "code",
   "execution_count": 23,
   "metadata": {},
   "outputs": [
    {
     "data": {
      "text/html": [
       "<table>\n",
       "<thead><tr><th></th><th scope=col>Country</th><th scope=col>Age</th><th scope=col>Salary</th><th scope=col>Purchased</th></tr></thead>\n",
       "<tbody>\n",
       "\t<tr><th scope=row>1</th><td>1       </td><td>44.00000</td><td>72000.00</td><td>0       </td></tr>\n",
       "\t<tr><th scope=row>2</th><td>2       </td><td>27.00000</td><td>48000.00</td><td>1       </td></tr>\n",
       "\t<tr><th scope=row>3</th><td>3       </td><td>30.00000</td><td>54000.00</td><td>0       </td></tr>\n",
       "\t<tr><th scope=row>4</th><td>2       </td><td>38.00000</td><td>61000.00</td><td>0       </td></tr>\n",
       "\t<tr><th scope=row>5</th><td>3       </td><td>40.00000</td><td>63777.78</td><td>1       </td></tr>\n",
       "\t<tr><th scope=row>7</th><td>2       </td><td>38.77778</td><td>52000.00</td><td>0       </td></tr>\n",
       "\t<tr><th scope=row>8</th><td>1       </td><td>48.00000</td><td>79000.00</td><td>1       </td></tr>\n",
       "\t<tr><th scope=row>10</th><td>1       </td><td>37.00000</td><td>67000.00</td><td>1       </td></tr>\n",
       "</tbody>\n",
       "</table>\n"
      ],
      "text/latex": [
       "\\begin{tabular}{r|llll}\n",
       "  & Country & Age & Salary & Purchased\\\\\n",
       "\\hline\n",
       "\t1 & 1        & 44.00000 & 72000.00 & 0       \\\\\n",
       "\t2 & 2        & 27.00000 & 48000.00 & 1       \\\\\n",
       "\t3 & 3        & 30.00000 & 54000.00 & 0       \\\\\n",
       "\t4 & 2        & 38.00000 & 61000.00 & 0       \\\\\n",
       "\t5 & 3        & 40.00000 & 63777.78 & 1       \\\\\n",
       "\t7 & 2        & 38.77778 & 52000.00 & 0       \\\\\n",
       "\t8 & 1        & 48.00000 & 79000.00 & 1       \\\\\n",
       "\t10 & 1        & 37.00000 & 67000.00 & 1       \\\\\n",
       "\\end{tabular}\n"
      ],
      "text/markdown": [
       "\n",
       "| <!--/--> | Country | Age | Salary | Purchased | \n",
       "|---|---|---|---|---|---|---|---|\n",
       "| 1 | 1        | 44.00000 | 72000.00 | 0        | \n",
       "| 2 | 2        | 27.00000 | 48000.00 | 1        | \n",
       "| 3 | 3        | 30.00000 | 54000.00 | 0        | \n",
       "| 4 | 2        | 38.00000 | 61000.00 | 0        | \n",
       "| 5 | 3        | 40.00000 | 63777.78 | 1        | \n",
       "| 7 | 2        | 38.77778 | 52000.00 | 0        | \n",
       "| 8 | 1        | 48.00000 | 79000.00 | 1        | \n",
       "| 10 | 1        | 37.00000 | 67000.00 | 1        | \n",
       "\n",
       "\n"
      ],
      "text/plain": [
       "   Country Age      Salary   Purchased\n",
       "1  1       44.00000 72000.00 0        \n",
       "2  2       27.00000 48000.00 1        \n",
       "3  3       30.00000 54000.00 0        \n",
       "4  2       38.00000 61000.00 0        \n",
       "5  3       40.00000 63777.78 1        \n",
       "7  2       38.77778 52000.00 0        \n",
       "8  1       48.00000 79000.00 1        \n",
       "10 1       37.00000 67000.00 1        "
      ]
     },
     "metadata": {},
     "output_type": "display_data"
    }
   ],
   "source": [
    "training_set"
   ]
  },
  {
   "cell_type": "code",
   "execution_count": 24,
   "metadata": {},
   "outputs": [
    {
     "data": {
      "text/html": [
       "<table>\n",
       "<thead><tr><th></th><th scope=col>Country</th><th scope=col>Age</th><th scope=col>Salary</th><th scope=col>Purchased</th></tr></thead>\n",
       "<tbody>\n",
       "\t<tr><th scope=row>6</th><td>1    </td><td>35   </td><td>58000</td><td>1    </td></tr>\n",
       "\t<tr><th scope=row>9</th><td>3    </td><td>50   </td><td>83000</td><td>0    </td></tr>\n",
       "</tbody>\n",
       "</table>\n"
      ],
      "text/latex": [
       "\\begin{tabular}{r|llll}\n",
       "  & Country & Age & Salary & Purchased\\\\\n",
       "\\hline\n",
       "\t6 & 1     & 35    & 58000 & 1    \\\\\n",
       "\t9 & 3     & 50    & 83000 & 0    \\\\\n",
       "\\end{tabular}\n"
      ],
      "text/markdown": [
       "\n",
       "| <!--/--> | Country | Age | Salary | Purchased | \n",
       "|---|---|\n",
       "| 6 | 1     | 35    | 58000 | 1     | \n",
       "| 9 | 3     | 50    | 83000 | 0     | \n",
       "\n",
       "\n"
      ],
      "text/plain": [
       "  Country Age Salary Purchased\n",
       "6 1       35  58000  1        \n",
       "9 3       50  83000  0        "
      ]
     },
     "metadata": {},
     "output_type": "display_data"
    }
   ],
   "source": [
    "test_set"
   ]
  },
  {
   "cell_type": "markdown",
   "metadata": {},
   "source": [
    "## 5.0 Feature Scaling"
   ]
  },
  {
   "cell_type": "code",
   "execution_count": 152,
   "metadata": {},
   "outputs": [],
   "source": [
    "# factor in R is not Numeric.\n",
    "\n",
    "training_set[, 2:3] = scale(training_set[, 2:3])\n",
    "test_set[, 2:3] = scale(test_set[, 2:3])"
   ]
  },
  {
   "cell_type": "code",
   "execution_count": 153,
   "metadata": {},
   "outputs": [
    {
     "data": {
      "text/html": [
       "<table>\n",
       "<thead><tr><th></th><th scope=col>Country</th><th scope=col>Age</th><th scope=col>Salary</th><th scope=col>Purchased</th></tr></thead>\n",
       "<tbody>\n",
       "\t<tr><th scope=row>1</th><td>1          </td><td> 0.90101716</td><td> 0.9392746 </td><td>0          </td></tr>\n",
       "\t<tr><th scope=row>2</th><td>2          </td><td>-1.58847494</td><td>-1.3371160 </td><td>1          </td></tr>\n",
       "\t<tr><th scope=row>3</th><td>3          </td><td>-1.14915281</td><td>-0.7680183 </td><td>0          </td></tr>\n",
       "\t<tr><th scope=row>4</th><td>2          </td><td> 0.02237289</td><td>-0.1040711 </td><td>0          </td></tr>\n",
       "\t<tr><th scope=row>5</th><td>3          </td><td> 0.31525431</td><td> 0.1594000 </td><td>1          </td></tr>\n",
       "\t<tr><th scope=row>7</th><td>2          </td><td> 0.13627122</td><td>-0.9577176 </td><td>0          </td></tr>\n",
       "\t<tr><th scope=row>8</th><td>1          </td><td> 1.48678000</td><td> 1.6032218 </td><td>1          </td></tr>\n",
       "\t<tr><th scope=row>10</th><td>1          </td><td>-0.12406783</td><td> 0.4650265 </td><td>1          </td></tr>\n",
       "</tbody>\n",
       "</table>\n"
      ],
      "text/latex": [
       "\\begin{tabular}{r|llll}\n",
       "  & Country & Age & Salary & Purchased\\\\\n",
       "\\hline\n",
       "\t1 & 1           &  0.90101716 &  0.9392746  & 0          \\\\\n",
       "\t2 & 2           & -1.58847494 & -1.3371160  & 1          \\\\\n",
       "\t3 & 3           & -1.14915281 & -0.7680183  & 0          \\\\\n",
       "\t4 & 2           &  0.02237289 & -0.1040711  & 0          \\\\\n",
       "\t5 & 3           &  0.31525431 &  0.1594000  & 1          \\\\\n",
       "\t7 & 2           &  0.13627122 & -0.9577176  & 0          \\\\\n",
       "\t8 & 1           &  1.48678000 &  1.6032218  & 1          \\\\\n",
       "\t10 & 1           & -0.12406783 &  0.4650265  & 1          \\\\\n",
       "\\end{tabular}\n"
      ],
      "text/markdown": [
       "\n",
       "| <!--/--> | Country | Age | Salary | Purchased | \n",
       "|---|---|---|---|---|---|---|---|\n",
       "| 1 | 1           |  0.90101716 |  0.9392746  | 0           | \n",
       "| 2 | 2           | -1.58847494 | -1.3371160  | 1           | \n",
       "| 3 | 3           | -1.14915281 | -0.7680183  | 0           | \n",
       "| 4 | 2           |  0.02237289 | -0.1040711  | 0           | \n",
       "| 5 | 3           |  0.31525431 |  0.1594000  | 1           | \n",
       "| 7 | 2           |  0.13627122 | -0.9577176  | 0           | \n",
       "| 8 | 1           |  1.48678000 |  1.6032218  | 1           | \n",
       "| 10 | 1           | -0.12406783 |  0.4650265  | 1           | \n",
       "\n",
       "\n"
      ],
      "text/plain": [
       "   Country Age         Salary     Purchased\n",
       "1  1        0.90101716  0.9392746 0        \n",
       "2  2       -1.58847494 -1.3371160 1        \n",
       "3  3       -1.14915281 -0.7680183 0        \n",
       "4  2        0.02237289 -0.1040711 0        \n",
       "5  3        0.31525431  0.1594000 1        \n",
       "7  2        0.13627122 -0.9577176 0        \n",
       "8  1        1.48678000  1.6032218 1        \n",
       "10 1       -0.12406783  0.4650265 1        "
      ]
     },
     "metadata": {},
     "output_type": "display_data"
    }
   ],
   "source": [
    "training_set"
   ]
  },
  {
   "cell_type": "code",
   "execution_count": 154,
   "metadata": {},
   "outputs": [
    {
     "data": {
      "text/html": [
       "<table>\n",
       "<thead><tr><th></th><th scope=col>Country</th><th scope=col>Age</th><th scope=col>Salary</th><th scope=col>Purchased</th></tr></thead>\n",
       "<tbody>\n",
       "\t<tr><th scope=row>6</th><td>1         </td><td>-0.7071068</td><td>-0.7071068</td><td>1         </td></tr>\n",
       "\t<tr><th scope=row>9</th><td>3         </td><td> 0.7071068</td><td> 0.7071068</td><td>0         </td></tr>\n",
       "</tbody>\n",
       "</table>\n"
      ],
      "text/latex": [
       "\\begin{tabular}{r|llll}\n",
       "  & Country & Age & Salary & Purchased\\\\\n",
       "\\hline\n",
       "\t6 & 1          & -0.7071068 & -0.7071068 & 1         \\\\\n",
       "\t9 & 3          &  0.7071068 &  0.7071068 & 0         \\\\\n",
       "\\end{tabular}\n"
      ],
      "text/markdown": [
       "\n",
       "| <!--/--> | Country | Age | Salary | Purchased | \n",
       "|---|---|\n",
       "| 6 | 1          | -0.7071068 | -0.7071068 | 1          | \n",
       "| 9 | 3          |  0.7071068 |  0.7071068 | 0          | \n",
       "\n",
       "\n"
      ],
      "text/plain": [
       "  Country Age        Salary     Purchased\n",
       "6 1       -0.7071068 -0.7071068 1        \n",
       "9 3        0.7071068  0.7071068 0        "
      ]
     },
     "metadata": {},
     "output_type": "display_data"
    }
   ],
   "source": [
    "test_set"
   ]
  },
  {
   "cell_type": "markdown",
   "metadata": {},
   "source": [
    "# Part2: Multiple Linear Regression"
   ]
  },
  {
   "cell_type": "markdown",
   "metadata": {},
   "source": [
    "## Step 1: Data Read and Summary"
   ]
  },
  {
   "cell_type": "markdown",
   "metadata": {},
   "source": [
    "#### California Housing Prices\n",
    "\n",
    "Median house prices for California districts derived from the 1990 census.\n",
    "Last Updated: 9 months ago (Version 1)\n",
    "About this Dataset\n",
    "Context\n",
    "This is the dataset used in the second chapter of Aurélien Géron's recent book 'Hands-On Machine learning with Scikit-Learn and TensorFlow'. It serves as an excellent introduction to implementing machine learning algorithms because it requires rudimentary data cleaning, has an easily understandable list of variables and sits at an optimal size between being to toyish and too cumbersome.\n",
    "\n",
    "The data contains information from the 1990 California census. So although it may not help you with predicting current housing prices like the Zillow Zestimate dataset, it does provide an accessible introductory dataset for teaching people about the basics of machine learning.\n",
    "\n",
    "Content\n",
    "The data pertains to the houses found in a given California district and some summary stats about them based on the 1990 census data. Be warned the data aren't cleaned so there are some preprocessing steps required! The columns are as follows, their names are pretty self explanitory:\n",
    "\n",
    "longitude\n",
    "\n",
    "latitude\n",
    "\n",
    "housing_median_age\n",
    "\n",
    "total_rooms\n",
    "\n",
    "total_bedrooms\n",
    "\n",
    "population\n",
    "\n",
    "households\n",
    "\n",
    "median_income\n",
    "\n",
    "median_house_value\n",
    "\n",
    "ocean_proximity\n",
    "\n",
    "Acknowledgements\n",
    "This data was initially featured in the following paper: Pace, R. Kelley, and Ronald Barry. \"Sparse spatial autoregressions.\" Statistics & Probability Letters 33.3 (1997): 291-297.\n",
    "\n",
    "and I encountered it in 'Hands-On Machine learning with Scikit-Learn and TensorFlow' by Aurélien Géron. Aurélien Géron wrote: This dataset is a modified version of the California Housing dataset available from: Luís Torgo's page (University of Porto)"
   ]
  },
  {
   "cell_type": "code",
   "execution_count": 30,
   "metadata": {
    "collapsed": true
   },
   "outputs": [],
   "source": [
    "setwd(\"C:/Udemy Machine Learning/Machine Learning A-Z Template Folder/Part 2 - Regression/Section 5 - Multiple Linear Regression/\")"
   ]
  },
  {
   "cell_type": "code",
   "execution_count": 31,
   "metadata": {
    "collapsed": true
   },
   "outputs": [],
   "source": [
    "housing = read.csv('housing.csv')"
   ]
  },
  {
   "cell_type": "code",
   "execution_count": 34,
   "metadata": {},
   "outputs": [
    {
     "data": {
      "text/html": [
       "<table>\n",
       "<thead><tr><th scope=col>longitude</th><th scope=col>latitude</th><th scope=col>housing_median_age</th><th scope=col>total_rooms</th><th scope=col>total_bedrooms</th><th scope=col>population</th><th scope=col>households</th><th scope=col>median_income</th><th scope=col>median_house_value</th><th scope=col>ocean_proximity</th></tr></thead>\n",
       "<tbody>\n",
       "\t<tr><td>-122.23 </td><td>37.88   </td><td>41      </td><td> 880    </td><td> 129    </td><td> 322    </td><td> 126    </td><td>8.3252  </td><td>452600  </td><td>NEAR BAY</td></tr>\n",
       "\t<tr><td>-122.22 </td><td>37.86   </td><td>21      </td><td>7099    </td><td>1106    </td><td>2401    </td><td>1138    </td><td>8.3014  </td><td>358500  </td><td>NEAR BAY</td></tr>\n",
       "\t<tr><td>-122.24 </td><td>37.85   </td><td>52      </td><td>1467    </td><td> 190    </td><td> 496    </td><td> 177    </td><td>7.2574  </td><td>352100  </td><td>NEAR BAY</td></tr>\n",
       "\t<tr><td>-122.25 </td><td>37.85   </td><td>52      </td><td>1274    </td><td> 235    </td><td> 558    </td><td> 219    </td><td>5.6431  </td><td>341300  </td><td>NEAR BAY</td></tr>\n",
       "\t<tr><td>-122.25 </td><td>37.85   </td><td>52      </td><td>1627    </td><td> 280    </td><td> 565    </td><td> 259    </td><td>3.8462  </td><td>342200  </td><td>NEAR BAY</td></tr>\n",
       "\t<tr><td>-122.25 </td><td>37.85   </td><td>52      </td><td> 919    </td><td> 213    </td><td> 413    </td><td> 193    </td><td>4.0368  </td><td>269700  </td><td>NEAR BAY</td></tr>\n",
       "</tbody>\n",
       "</table>\n"
      ],
      "text/latex": [
       "\\begin{tabular}{r|llllllllll}\n",
       " longitude & latitude & housing\\_median\\_age & total\\_rooms & total\\_bedrooms & population & households & median\\_income & median\\_house\\_value & ocean\\_proximity\\\\\n",
       "\\hline\n",
       "\t -122.23  & 37.88    & 41       &  880     &  129     &  322     &  126     & 8.3252   & 452600   & NEAR BAY\\\\\n",
       "\t -122.22  & 37.86    & 21       & 7099     & 1106     & 2401     & 1138     & 8.3014   & 358500   & NEAR BAY\\\\\n",
       "\t -122.24  & 37.85    & 52       & 1467     &  190     &  496     &  177     & 7.2574   & 352100   & NEAR BAY\\\\\n",
       "\t -122.25  & 37.85    & 52       & 1274     &  235     &  558     &  219     & 5.6431   & 341300   & NEAR BAY\\\\\n",
       "\t -122.25  & 37.85    & 52       & 1627     &  280     &  565     &  259     & 3.8462   & 342200   & NEAR BAY\\\\\n",
       "\t -122.25  & 37.85    & 52       &  919     &  213     &  413     &  193     & 4.0368   & 269700   & NEAR BAY\\\\\n",
       "\\end{tabular}\n"
      ],
      "text/markdown": [
       "\n",
       "longitude | latitude | housing_median_age | total_rooms | total_bedrooms | population | households | median_income | median_house_value | ocean_proximity | \n",
       "|---|---|---|---|---|---|\n",
       "| -122.23  | 37.88    | 41       |  880     |  129     |  322     |  126     | 8.3252   | 452600   | NEAR BAY | \n",
       "| -122.22  | 37.86    | 21       | 7099     | 1106     | 2401     | 1138     | 8.3014   | 358500   | NEAR BAY | \n",
       "| -122.24  | 37.85    | 52       | 1467     |  190     |  496     |  177     | 7.2574   | 352100   | NEAR BAY | \n",
       "| -122.25  | 37.85    | 52       | 1274     |  235     |  558     |  219     | 5.6431   | 341300   | NEAR BAY | \n",
       "| -122.25  | 37.85    | 52       | 1627     |  280     |  565     |  259     | 3.8462   | 342200   | NEAR BAY | \n",
       "| -122.25  | 37.85    | 52       |  919     |  213     |  413     |  193     | 4.0368   | 269700   | NEAR BAY | \n",
       "\n",
       "\n"
      ],
      "text/plain": [
       "  longitude latitude housing_median_age total_rooms total_bedrooms population\n",
       "1 -122.23   37.88    41                  880         129            322      \n",
       "2 -122.22   37.86    21                 7099        1106           2401      \n",
       "3 -122.24   37.85    52                 1467         190            496      \n",
       "4 -122.25   37.85    52                 1274         235            558      \n",
       "5 -122.25   37.85    52                 1627         280            565      \n",
       "6 -122.25   37.85    52                  919         213            413      \n",
       "  households median_income median_house_value ocean_proximity\n",
       "1  126       8.3252        452600             NEAR BAY       \n",
       "2 1138       8.3014        358500             NEAR BAY       \n",
       "3  177       7.2574        352100             NEAR BAY       \n",
       "4  219       5.6431        341300             NEAR BAY       \n",
       "5  259       3.8462        342200             NEAR BAY       \n",
       "6  193       4.0368        269700             NEAR BAY       "
      ]
     },
     "metadata": {},
     "output_type": "display_data"
    }
   ],
   "source": [
    "# Head will show you first few records to analyze\n",
    "head(housing)"
   ]
  },
  {
   "cell_type": "code",
   "execution_count": 35,
   "metadata": {},
   "outputs": [
    {
     "data": {
      "text/plain": [
       "   longitude         latitude     housing_median_age  total_rooms   \n",
       " Min.   :-124.3   Min.   :32.54   Min.   : 1.00      Min.   :    2  \n",
       " 1st Qu.:-121.8   1st Qu.:33.93   1st Qu.:18.00      1st Qu.: 1448  \n",
       " Median :-118.5   Median :34.26   Median :29.00      Median : 2127  \n",
       " Mean   :-119.6   Mean   :35.63   Mean   :28.64      Mean   : 2636  \n",
       " 3rd Qu.:-118.0   3rd Qu.:37.71   3rd Qu.:37.00      3rd Qu.: 3148  \n",
       " Max.   :-114.3   Max.   :41.95   Max.   :52.00      Max.   :39320  \n",
       "                                                                    \n",
       " total_bedrooms     population      households     median_income    \n",
       " Min.   :   1.0   Min.   :    3   Min.   :   1.0   Min.   : 0.4999  \n",
       " 1st Qu.: 296.0   1st Qu.:  787   1st Qu.: 280.0   1st Qu.: 2.5634  \n",
       " Median : 435.0   Median : 1166   Median : 409.0   Median : 3.5348  \n",
       " Mean   : 537.9   Mean   : 1425   Mean   : 499.5   Mean   : 3.8707  \n",
       " 3rd Qu.: 647.0   3rd Qu.: 1725   3rd Qu.: 605.0   3rd Qu.: 4.7432  \n",
       " Max.   :6445.0   Max.   :35682   Max.   :6082.0   Max.   :15.0001  \n",
       " NA's   :207                                                        \n",
       " median_house_value   ocean_proximity\n",
       " Min.   : 14999     <1H OCEAN :9136  \n",
       " 1st Qu.:119600     INLAND    :6551  \n",
       " Median :179700     ISLAND    :   5  \n",
       " Mean   :206856     NEAR BAY  :2290  \n",
       " 3rd Qu.:264725     NEAR OCEAN:2658  \n",
       " Max.   :500001                      \n",
       "                                     "
      ]
     },
     "metadata": {},
     "output_type": "display_data"
    }
   ],
   "source": [
    "#Sumary gives you summary statistics of attributes\n",
    "\n",
    "summary(housing)"
   ]
  },
  {
   "cell_type": "markdown",
   "metadata": {},
   "source": [
    "So from that summary we can see a few things we need to do before actually running algorithms.\n",
    "\n",
    "- NA's in total_bedrooms need to be addressed. These must be given a value\n",
    "- We will split the ocean_proximity into binary columns. Most machine learning algorithms in R can handle categoricals in a  single column, but we will cater to the lowest common denominator and do the splitting.\n",
    "- Make the total_bedrooms and total_rooms into a mean_number_bedrooms and mean_number_rooms columns as there are likely more accurate depections of the houses in a given group."
   ]
  },
  {
   "cell_type": "code",
   "execution_count": 36,
   "metadata": {},
   "outputs": [
    {
     "data": {
      "text/html": [
       "<ol class=list-inline>\n",
       "\t<li>'longitude'</li>\n",
       "\t<li>'latitude'</li>\n",
       "\t<li>'housing_median_age'</li>\n",
       "\t<li>'total_rooms'</li>\n",
       "\t<li>'total_bedrooms'</li>\n",
       "\t<li>'population'</li>\n",
       "\t<li>'households'</li>\n",
       "\t<li>'median_income'</li>\n",
       "\t<li>'median_house_value'</li>\n",
       "\t<li>'ocean_proximity'</li>\n",
       "</ol>\n"
      ],
      "text/latex": [
       "\\begin{enumerate*}\n",
       "\\item 'longitude'\n",
       "\\item 'latitude'\n",
       "\\item 'housing\\_median\\_age'\n",
       "\\item 'total\\_rooms'\n",
       "\\item 'total\\_bedrooms'\n",
       "\\item 'population'\n",
       "\\item 'households'\n",
       "\\item 'median\\_income'\n",
       "\\item 'median\\_house\\_value'\n",
       "\\item 'ocean\\_proximity'\n",
       "\\end{enumerate*}\n"
      ],
      "text/markdown": [
       "1. 'longitude'\n",
       "2. 'latitude'\n",
       "3. 'housing_median_age'\n",
       "4. 'total_rooms'\n",
       "5. 'total_bedrooms'\n",
       "6. 'population'\n",
       "7. 'households'\n",
       "8. 'median_income'\n",
       "9. 'median_house_value'\n",
       "10. 'ocean_proximity'\n",
       "\n",
       "\n"
      ],
      "text/plain": [
       " [1] \"longitude\"          \"latitude\"           \"housing_median_age\"\n",
       " [4] \"total_rooms\"        \"total_bedrooms\"     \"population\"        \n",
       " [7] \"households\"         \"median_income\"      \"median_house_value\"\n",
       "[10] \"ocean_proximity\"   "
      ]
     },
     "metadata": {},
     "output_type": "display_data"
    }
   ],
   "source": [
    "colnames(housing)"
   ]
  },
  {
   "cell_type": "code",
   "execution_count": 37,
   "metadata": {
    "collapsed": true
   },
   "outputs": [],
   "source": [
    "#par(mfrow=c(2,5))"
   ]
  },
  {
   "cell_type": "code",
   "execution_count": 39,
   "metadata": {},
   "outputs": [
    {
     "name": "stderr",
     "output_type": "stream",
     "text": [
      "Loading tidyverse: ggplot2\n",
      "Loading tidyverse: tibble\n",
      "Loading tidyverse: tidyr\n",
      "Loading tidyverse: readr\n",
      "Loading tidyverse: purrr\n",
      "Loading tidyverse: dplyr\n",
      "Conflicts with tidy packages ---------------------------------------------------\n",
      "filter(): dplyr, stats\n",
      "lag():    dplyr, stats\n",
      "\n",
      "Attaching package: 'reshape2'\n",
      "\n",
      "The following object is masked from 'package:tidyr':\n",
      "\n",
      "    smiths\n",
      "\n"
     ]
    }
   ],
   "source": [
    "library(tidyverse)\n",
    "library(reshape2)"
   ]
  },
  {
   "cell_type": "code",
   "execution_count": 40,
   "metadata": {},
   "outputs": [
    {
     "name": "stderr",
     "output_type": "stream",
     "text": [
      "Using ocean_proximity as id variables\n",
      "Warning message:\n",
      "\"Removed 207 rows containing non-finite values (stat_bin).\""
     ]
    },
    {
     "data": {},
     "metadata": {},
     "output_type": "display_data"
    },
    {
     "data": {
      "image/png": "[encoded data removed]",
      "text/plain": [
       "plot without title"
      ]
     },
     "metadata": {},
     "output_type": "display_data"
    }
   ],
   "source": [
    "ggplot(data = melt(housing), mapping = aes(x = value)) + \n",
    "    geom_histogram(bins = 30) + facet_wrap(~variable, scales = 'free_x')"
   ]
  },
  {
   "cell_type": "markdown",
   "metadata": {},
   "source": [
    "## Step 2: Clean the data"
   ]
  },
  {
   "cell_type": "markdown",
   "metadata": {},
   "source": [
    "Impute missing values\n",
    "Fill median for total_bedrooms which is the only column with missing values. \n",
    "The median is used instead of mean because it is less influenced by extreme outliers. \n",
    "Note this may not be the best, as these could be actual buildings with no bedrooms (warehouses or something). \n",
    "We don't know... but imputation is often the best of a bad job"
   ]
  },
  {
   "cell_type": "code",
   "execution_count": 43,
   "metadata": {
    "collapsed": true
   },
   "outputs": [],
   "source": [
    "housing$total_bedrooms[is.na(housing$total_bedrooms)] = median(housing$total_bedrooms , na.rm = TRUE)"
   ]
  },
  {
   "cell_type": "markdown",
   "metadata": {},
   "source": [
    "Fix the total columns - make them means\n",
    "\n",
    "it make sense to convert total room and total bedrooms to its mean value."
   ]
  },
  {
   "cell_type": "code",
   "execution_count": 44,
   "metadata": {
    "collapsed": true
   },
   "outputs": [],
   "source": [
    "housing$mean_bedrooms = housing$total_bedrooms/housing$households\n",
    "housing$mean_rooms = housing$total_rooms/housing$households\n",
    "\n",
    "drops = c('total_bedrooms', 'total_rooms')\n",
    "\n",
    "housing = housing[ , !(names(housing) %in% drops)]"
   ]
  },
  {
   "cell_type": "code",
   "execution_count": 45,
   "metadata": {},
   "outputs": [
    {
     "data": {
      "text/html": [
       "<table>\n",
       "<thead><tr><th scope=col>longitude</th><th scope=col>latitude</th><th scope=col>housing_median_age</th><th scope=col>population</th><th scope=col>households</th><th scope=col>median_income</th><th scope=col>median_house_value</th><th scope=col>ocean_proximity</th><th scope=col>mean_bedrooms</th><th scope=col>mean_rooms</th></tr></thead>\n",
       "<tbody>\n",
       "\t<tr><td>-122.23  </td><td>37.88    </td><td>41       </td><td> 322     </td><td> 126     </td><td>8.3252   </td><td>452600   </td><td>NEAR BAY </td><td>1.0238095</td><td>6.984127 </td></tr>\n",
       "\t<tr><td>-122.22  </td><td>37.86    </td><td>21       </td><td>2401     </td><td>1138     </td><td>8.3014   </td><td>358500   </td><td>NEAR BAY </td><td>0.9718805</td><td>6.238137 </td></tr>\n",
       "\t<tr><td>-122.24  </td><td>37.85    </td><td>52       </td><td> 496     </td><td> 177     </td><td>7.2574   </td><td>352100   </td><td>NEAR BAY </td><td>1.0734463</td><td>8.288136 </td></tr>\n",
       "\t<tr><td>-122.25  </td><td>37.85    </td><td>52       </td><td> 558     </td><td> 219     </td><td>5.6431   </td><td>341300   </td><td>NEAR BAY </td><td>1.0730594</td><td>5.817352 </td></tr>\n",
       "\t<tr><td>-122.25  </td><td>37.85    </td><td>52       </td><td> 565     </td><td> 259     </td><td>3.8462   </td><td>342200   </td><td>NEAR BAY </td><td>1.0810811</td><td>6.281853 </td></tr>\n",
       "\t<tr><td>-122.25  </td><td>37.85    </td><td>52       </td><td> 413     </td><td> 193     </td><td>4.0368   </td><td>269700   </td><td>NEAR BAY </td><td>1.1036269</td><td>4.761658 </td></tr>\n",
       "</tbody>\n",
       "</table>\n"
      ],
      "text/latex": [
       "\\begin{tabular}{r|llllllllll}\n",
       " longitude & latitude & housing\\_median\\_age & population & households & median\\_income & median\\_house\\_value & ocean\\_proximity & mean\\_bedrooms & mean\\_rooms\\\\\n",
       "\\hline\n",
       "\t -122.23   & 37.88     & 41        &  322      &  126      & 8.3252    & 452600    & NEAR BAY  & 1.0238095 & 6.984127 \\\\\n",
       "\t -122.22   & 37.86     & 21        & 2401      & 1138      & 8.3014    & 358500    & NEAR BAY  & 0.9718805 & 6.238137 \\\\\n",
       "\t -122.24   & 37.85     & 52        &  496      &  177      & 7.2574    & 352100    & NEAR BAY  & 1.0734463 & 8.288136 \\\\\n",
       "\t -122.25   & 37.85     & 52        &  558      &  219      & 5.6431    & 341300    & NEAR BAY  & 1.0730594 & 5.817352 \\\\\n",
       "\t -122.25   & 37.85     & 52        &  565      &  259      & 3.8462    & 342200    & NEAR BAY  & 1.0810811 & 6.281853 \\\\\n",
       "\t -122.25   & 37.85     & 52        &  413      &  193      & 4.0368    & 269700    & NEAR BAY  & 1.1036269 & 4.761658 \\\\\n",
       "\\end{tabular}\n"
      ],
      "text/markdown": [
       "\n",
       "longitude | latitude | housing_median_age | population | households | median_income | median_house_value | ocean_proximity | mean_bedrooms | mean_rooms | \n",
       "|---|---|---|---|---|---|\n",
       "| -122.23   | 37.88     | 41        |  322      |  126      | 8.3252    | 452600    | NEAR BAY  | 1.0238095 | 6.984127  | \n",
       "| -122.22   | 37.86     | 21        | 2401      | 1138      | 8.3014    | 358500    | NEAR BAY  | 0.9718805 | 6.238137  | \n",
       "| -122.24   | 37.85     | 52        |  496      |  177      | 7.2574    | 352100    | NEAR BAY  | 1.0734463 | 8.288136  | \n",
       "| -122.25   | 37.85     | 52        |  558      |  219      | 5.6431    | 341300    | NEAR BAY  | 1.0730594 | 5.817352  | \n",
       "| -122.25   | 37.85     | 52        |  565      |  259      | 3.8462    | 342200    | NEAR BAY  | 1.0810811 | 6.281853  | \n",
       "| -122.25   | 37.85     | 52        |  413      |  193      | 4.0368    | 269700    | NEAR BAY  | 1.1036269 | 4.761658  | \n",
       "\n",
       "\n"
      ],
      "text/plain": [
       "  longitude latitude housing_median_age population households median_income\n",
       "1 -122.23   37.88    41                  322        126       8.3252       \n",
       "2 -122.22   37.86    21                 2401       1138       8.3014       \n",
       "3 -122.24   37.85    52                  496        177       7.2574       \n",
       "4 -122.25   37.85    52                  558        219       5.6431       \n",
       "5 -122.25   37.85    52                  565        259       3.8462       \n",
       "6 -122.25   37.85    52                  413        193       4.0368       \n",
       "  median_house_value ocean_proximity mean_bedrooms mean_rooms\n",
       "1 452600             NEAR BAY        1.0238095     6.984127  \n",
       "2 358500             NEAR BAY        0.9718805     6.238137  \n",
       "3 352100             NEAR BAY        1.0734463     8.288136  \n",
       "4 341300             NEAR BAY        1.0730594     5.817352  \n",
       "5 342200             NEAR BAY        1.0810811     6.281853  \n",
       "6 269700             NEAR BAY        1.1036269     4.761658  "
      ]
     },
     "metadata": {},
     "output_type": "display_data"
    }
   ],
   "source": [
    "head(housing)"
   ]
  },
  {
   "cell_type": "markdown",
   "metadata": {},
   "source": [
    "#### Turn categoricals into booleans\n",
    "Below I do the following:\n",
    "\n",
    "- Get a list of all the categories in the 'ocean_proximity' column\n",
    "- Make a new empty dataframe of all 0s, where each category is its own colum\n",
    "- Use a for loop to populate the appropriate columns of the dataframe\n",
    "- Drop the original column from the dataframe.\n",
    "\n",
    "This is an example of me coding R with a python accent... I would love comments about how to do this more cleanly in R!\n",
    "\n",
    "Fun follow up task: can you turn this into a function that could be used to split any categorial column?"
   ]
  },
  {
   "cell_type": "code",
   "execution_count": 46,
   "metadata": {
    "collapsed": true
   },
   "outputs": [],
   "source": [
    "categories = unique(housing$ocean_proximity)\n",
    "#split the categories off\n",
    "cat_housing = data.frame(ocean_proximity = housing$ocean_proximity)"
   ]
  },
  {
   "cell_type": "code",
   "execution_count": 47,
   "metadata": {},
   "outputs": [
    {
     "data": {
      "text/html": [
       "<ol class=list-inline>\n",
       "\t<li>NEAR BAY</li>\n",
       "\t<li>&lt;1H OCEAN</li>\n",
       "\t<li>INLAND</li>\n",
       "\t<li>NEAR OCEAN</li>\n",
       "\t<li>ISLAND</li>\n",
       "</ol>\n",
       "\n",
       "<details>\n",
       "\t<summary style=display:list-item;cursor:pointer>\n",
       "\t\t<strong>Levels</strong>:\n",
       "\t</summary>\n",
       "\t<ol class=list-inline>\n",
       "\t\t<li>'&lt;1H OCEAN'</li>\n",
       "\t\t<li>'INLAND'</li>\n",
       "\t\t<li>'ISLAND'</li>\n",
       "\t\t<li>'NEAR BAY'</li>\n",
       "\t\t<li>'NEAR OCEAN'</li>\n",
       "\t</ol>\n",
       "</details>"
      ],
      "text/latex": [
       "\\begin{enumerate*}\n",
       "\\item NEAR BAY\n",
       "\\item <1H OCEAN\n",
       "\\item INLAND\n",
       "\\item NEAR OCEAN\n",
       "\\item ISLAND\n",
       "\\end{enumerate*}\n",
       "\n",
       "\\emph{Levels}: \\begin{enumerate*}\n",
       "\\item '<1H OCEAN'\n",
       "\\item 'INLAND'\n",
       "\\item 'ISLAND'\n",
       "\\item 'NEAR BAY'\n",
       "\\item 'NEAR OCEAN'\n",
       "\\end{enumerate*}\n"
      ],
      "text/markdown": [
       "1. NEAR BAY\n",
       "2. &lt;1H OCEAN\n",
       "3. INLAND\n",
       "4. NEAR OCEAN\n",
       "5. ISLAND\n",
       "\n",
       "\n",
       "\n",
       "**Levels**: 1. '&lt;1H OCEAN'\n",
       "2. 'INLAND'\n",
       "3. 'ISLAND'\n",
       "4. 'NEAR BAY'\n",
       "5. 'NEAR OCEAN'\n",
       "\n",
       "\n"
      ],
      "text/plain": [
       "[1] NEAR BAY   <1H OCEAN  INLAND     NEAR OCEAN ISLAND    \n",
       "Levels: <1H OCEAN INLAND ISLAND NEAR BAY NEAR OCEAN"
      ]
     },
     "metadata": {},
     "output_type": "display_data"
    }
   ],
   "source": [
    "categories"
   ]
  },
  {
   "cell_type": "code",
   "execution_count": 49,
   "metadata": {},
   "outputs": [
    {
     "data": {
      "text/html": [
       "<table>\n",
       "<thead><tr><th scope=col>ocean_proximity</th><th scope=col>NEAR BAY</th><th scope=col>&lt;1H OCEAN</th><th scope=col>INLAND</th><th scope=col>NEAR OCEAN</th><th scope=col>ISLAND</th></tr></thead>\n",
       "<tbody>\n",
       "\t<tr><td>NEAR BAY</td><td>0       </td><td>0       </td><td>0       </td><td>0       </td><td>0       </td></tr>\n",
       "\t<tr><td>NEAR BAY</td><td>0       </td><td>0       </td><td>0       </td><td>0       </td><td>0       </td></tr>\n",
       "\t<tr><td>NEAR BAY</td><td>0       </td><td>0       </td><td>0       </td><td>0       </td><td>0       </td></tr>\n",
       "\t<tr><td>NEAR BAY</td><td>0       </td><td>0       </td><td>0       </td><td>0       </td><td>0       </td></tr>\n",
       "\t<tr><td>NEAR BAY</td><td>0       </td><td>0       </td><td>0       </td><td>0       </td><td>0       </td></tr>\n",
       "\t<tr><td>NEAR BAY</td><td>0       </td><td>0       </td><td>0       </td><td>0       </td><td>0       </td></tr>\n",
       "</tbody>\n",
       "</table>\n"
      ],
      "text/latex": [
       "\\begin{tabular}{r|llllll}\n",
       " ocean\\_proximity & NEAR BAY & <1H OCEAN & INLAND & NEAR OCEAN & ISLAND\\\\\n",
       "\\hline\n",
       "\t NEAR BAY & 0        & 0        & 0        & 0        & 0       \\\\\n",
       "\t NEAR BAY & 0        & 0        & 0        & 0        & 0       \\\\\n",
       "\t NEAR BAY & 0        & 0        & 0        & 0        & 0       \\\\\n",
       "\t NEAR BAY & 0        & 0        & 0        & 0        & 0       \\\\\n",
       "\t NEAR BAY & 0        & 0        & 0        & 0        & 0       \\\\\n",
       "\t NEAR BAY & 0        & 0        & 0        & 0        & 0       \\\\\n",
       "\\end{tabular}\n"
      ],
      "text/markdown": [
       "\n",
       "ocean_proximity | NEAR BAY | <1H OCEAN | INLAND | NEAR OCEAN | ISLAND | \n",
       "|---|---|---|---|---|---|\n",
       "| NEAR BAY | 0        | 0        | 0        | 0        | 0        | \n",
       "| NEAR BAY | 0        | 0        | 0        | 0        | 0        | \n",
       "| NEAR BAY | 0        | 0        | 0        | 0        | 0        | \n",
       "| NEAR BAY | 0        | 0        | 0        | 0        | 0        | \n",
       "| NEAR BAY | 0        | 0        | 0        | 0        | 0        | \n",
       "| NEAR BAY | 0        | 0        | 0        | 0        | 0        | \n",
       "\n",
       "\n"
      ],
      "text/plain": [
       "  ocean_proximity NEAR BAY <1H OCEAN INLAND NEAR OCEAN ISLAND\n",
       "1 NEAR BAY        0        0         0      0          0     \n",
       "2 NEAR BAY        0        0         0      0          0     \n",
       "3 NEAR BAY        0        0         0      0          0     \n",
       "4 NEAR BAY        0        0         0      0          0     \n",
       "5 NEAR BAY        0        0         0      0          0     \n",
       "6 NEAR BAY        0        0         0      0          0     "
      ]
     },
     "metadata": {},
     "output_type": "display_data"
    }
   ],
   "source": [
    "for(cat in categories){\n",
    "    cat_housing[,cat] = rep(0, times= nrow(cat_housing))\n",
    "}\n",
    "head(cat_housing) #see the new columns on the right"
   ]
  },
  {
   "cell_type": "code",
   "execution_count": 51,
   "metadata": {},
   "outputs": [
    {
     "data": {
      "text/html": [
       "<table>\n",
       "<thead><tr><th scope=col>ocean_proximity</th><th scope=col>NEAR BAY</th><th scope=col>&lt;1H OCEAN</th><th scope=col>INLAND</th><th scope=col>NEAR OCEAN</th><th scope=col>ISLAND</th></tr></thead>\n",
       "<tbody>\n",
       "\t<tr><td>NEAR BAY</td><td>1       </td><td>0       </td><td>0       </td><td>0       </td><td>0       </td></tr>\n",
       "\t<tr><td>NEAR BAY</td><td>1       </td><td>0       </td><td>0       </td><td>0       </td><td>0       </td></tr>\n",
       "\t<tr><td>NEAR BAY</td><td>1       </td><td>0       </td><td>0       </td><td>0       </td><td>0       </td></tr>\n",
       "\t<tr><td>NEAR BAY</td><td>1       </td><td>0       </td><td>0       </td><td>0       </td><td>0       </td></tr>\n",
       "\t<tr><td>NEAR BAY</td><td>1       </td><td>0       </td><td>0       </td><td>0       </td><td>0       </td></tr>\n",
       "\t<tr><td>NEAR BAY</td><td>1       </td><td>0       </td><td>0       </td><td>0       </td><td>0       </td></tr>\n",
       "</tbody>\n",
       "</table>\n"
      ],
      "text/latex": [
       "\\begin{tabular}{r|llllll}\n",
       " ocean\\_proximity & NEAR BAY & <1H OCEAN & INLAND & NEAR OCEAN & ISLAND\\\\\n",
       "\\hline\n",
       "\t NEAR BAY & 1        & 0        & 0        & 0        & 0       \\\\\n",
       "\t NEAR BAY & 1        & 0        & 0        & 0        & 0       \\\\\n",
       "\t NEAR BAY & 1        & 0        & 0        & 0        & 0       \\\\\n",
       "\t NEAR BAY & 1        & 0        & 0        & 0        & 0       \\\\\n",
       "\t NEAR BAY & 1        & 0        & 0        & 0        & 0       \\\\\n",
       "\t NEAR BAY & 1        & 0        & 0        & 0        & 0       \\\\\n",
       "\\end{tabular}\n"
      ],
      "text/markdown": [
       "\n",
       "ocean_proximity | NEAR BAY | <1H OCEAN | INLAND | NEAR OCEAN | ISLAND | \n",
       "|---|---|---|---|---|---|\n",
       "| NEAR BAY | 1        | 0        | 0        | 0        | 0        | \n",
       "| NEAR BAY | 1        | 0        | 0        | 0        | 0        | \n",
       "| NEAR BAY | 1        | 0        | 0        | 0        | 0        | \n",
       "| NEAR BAY | 1        | 0        | 0        | 0        | 0        | \n",
       "| NEAR BAY | 1        | 0        | 0        | 0        | 0        | \n",
       "| NEAR BAY | 1        | 0        | 0        | 0        | 0        | \n",
       "\n",
       "\n"
      ],
      "text/plain": [
       "  ocean_proximity NEAR BAY <1H OCEAN INLAND NEAR OCEAN ISLAND\n",
       "1 NEAR BAY        1        0         0      0          0     \n",
       "2 NEAR BAY        1        0         0      0          0     \n",
       "3 NEAR BAY        1        0         0      0          0     \n",
       "4 NEAR BAY        1        0         0      0          0     \n",
       "5 NEAR BAY        1        0         0      0          0     \n",
       "6 NEAR BAY        1        0         0      0          0     "
      ]
     },
     "metadata": {},
     "output_type": "display_data"
    }
   ],
   "source": [
    "for(i in 1:length(cat_housing$ocean_proximity)){\n",
    "    cat = as.character(cat_housing$ocean_proximity[i])\n",
    "    cat_housing[,cat][i] = 1\n",
    "}\n",
    "\n",
    "head(cat_housing)"
   ]
  },
  {
   "cell_type": "code",
   "execution_count": 53,
   "metadata": {},
   "outputs": [
    {
     "data": {
      "text/html": [
       "<table>\n",
       "<thead><tr><th></th><th scope=col>NEAR BAY</th><th scope=col>&lt;1H OCEAN</th><th scope=col>INLAND</th><th scope=col>NEAR OCEAN</th><th scope=col>ISLAND</th></tr></thead>\n",
       "<tbody>\n",
       "\t<tr><th scope=row>20635</th><td>0</td><td>0</td><td>1</td><td>0</td><td>0</td></tr>\n",
       "\t<tr><th scope=row>20636</th><td>0</td><td>0</td><td>1</td><td>0</td><td>0</td></tr>\n",
       "\t<tr><th scope=row>20637</th><td>0</td><td>0</td><td>1</td><td>0</td><td>0</td></tr>\n",
       "\t<tr><th scope=row>20638</th><td>0</td><td>0</td><td>1</td><td>0</td><td>0</td></tr>\n",
       "\t<tr><th scope=row>20639</th><td>0</td><td>0</td><td>1</td><td>0</td><td>0</td></tr>\n",
       "\t<tr><th scope=row>20640</th><td>0</td><td>0</td><td>1</td><td>0</td><td>0</td></tr>\n",
       "</tbody>\n",
       "</table>\n"
      ],
      "text/latex": [
       "\\begin{tabular}{r|lllll}\n",
       "  & NEAR BAY & <1H OCEAN & INLAND & NEAR OCEAN & ISLAND\\\\\n",
       "\\hline\n",
       "\t20635 & 0 & 0 & 1 & 0 & 0\\\\\n",
       "\t20636 & 0 & 0 & 1 & 0 & 0\\\\\n",
       "\t20637 & 0 & 0 & 1 & 0 & 0\\\\\n",
       "\t20638 & 0 & 0 & 1 & 0 & 0\\\\\n",
       "\t20639 & 0 & 0 & 1 & 0 & 0\\\\\n",
       "\t20640 & 0 & 0 & 1 & 0 & 0\\\\\n",
       "\\end{tabular}\n"
      ],
      "text/markdown": [
       "\n",
       "| <!--/--> | NEAR BAY | <1H OCEAN | INLAND | NEAR OCEAN | ISLAND | \n",
       "|---|---|---|---|---|---|\n",
       "| 20635 | 0 | 0 | 1 | 0 | 0 | \n",
       "| 20636 | 0 | 0 | 1 | 0 | 0 | \n",
       "| 20637 | 0 | 0 | 1 | 0 | 0 | \n",
       "| 20638 | 0 | 0 | 1 | 0 | 0 | \n",
       "| 20639 | 0 | 0 | 1 | 0 | 0 | \n",
       "| 20640 | 0 | 0 | 1 | 0 | 0 | \n",
       "\n",
       "\n"
      ],
      "text/plain": [
       "      NEAR BAY <1H OCEAN INLAND NEAR OCEAN ISLAND\n",
       "20635 0        0         1      0          0     \n",
       "20636 0        0         1      0          0     \n",
       "20637 0        0         1      0          0     \n",
       "20638 0        0         1      0          0     \n",
       "20639 0        0         1      0          0     \n",
       "20640 0        0         1      0          0     "
      ]
     },
     "metadata": {},
     "output_type": "display_data"
    }
   ],
   "source": [
    "cat_columns = names(cat_housing)\n",
    "keep_columns = cat_columns[cat_columns != 'ocean_proximity']\n",
    "cat_housing = select(cat_housing,one_of(keep_columns))\n",
    "\n",
    "tail(cat_housing)"
   ]
  },
  {
   "cell_type": "markdown",
   "metadata": {},
   "source": [
    "#### Scale the numerical variables\n",
    "Note here I scale every one of the numericals except for 'median_house_value' as this is what we will be working to predict. The x values are scaled so that coefficients in things like support vector machines are given equal weight, but the y value scale doen't affect the learning algorithms in the same way (and we would just need to re-scale the predictions at the end which is another hassle)."
   ]
  },
  {
   "cell_type": "code",
   "execution_count": 54,
   "metadata": {
    "collapsed": true
   },
   "outputs": [],
   "source": [
    "drops = c('ocean_proximity','median_house_value')\n",
    "housing_num =  housing[ , !(names(housing) %in% drops)]"
   ]
  },
  {
   "cell_type": "code",
   "execution_count": 58,
   "metadata": {},
   "outputs": [],
   "source": [
    "scaled_housing_num = scale(housing_num)\n"
   ]
  },
  {
   "cell_type": "code",
   "execution_count": 60,
   "metadata": {},
   "outputs": [
    {
     "data": {
      "text/html": [
       "<table>\n",
       "<thead><tr><th scope=col>longitude</th><th scope=col>latitude</th><th scope=col>housing_median_age</th><th scope=col>population</th><th scope=col>households</th><th scope=col>median_income</th><th scope=col>mean_bedrooms</th><th scope=col>mean_rooms</th></tr></thead>\n",
       "<tbody>\n",
       "\t<tr><td>-1.327803   </td><td>1.052523    </td><td> 0.9821189  </td><td>-0.9744050  </td><td>-0.9770092  </td><td> 2.34470896 </td><td>-0.148510661</td><td> 0.6285442  </td></tr>\n",
       "\t<tr><td>-1.322812   </td><td>1.043159    </td><td>-0.6070042  </td><td> 0.8614180  </td><td> 1.6699206  </td><td> 2.33218146 </td><td>-0.248535936</td><td> 0.3270334  </td></tr>\n",
       "\t<tr><td>-1.332794   </td><td>1.038478    </td><td> 1.8561366  </td><td>-0.8207575  </td><td>-0.8436165  </td><td> 1.78265622 </td><td>-0.052900657</td><td> 1.1555925  </td></tr>\n",
       "\t<tr><td>-1.337785   </td><td>1.038478    </td><td> 1.8561366  </td><td>-0.7660095  </td><td>-0.7337637  </td><td> 0.93294491 </td><td>-0.053646030</td><td> 0.1569623  </td></tr>\n",
       "\t<tr><td>-1.337785   </td><td>1.038478    </td><td> 1.8561366  </td><td>-0.7598283  </td><td>-0.6291419  </td><td>-0.01288068 </td><td>-0.038194658</td><td> 0.3447024  </td></tr>\n",
       "\t<tr><td>-1.337785   </td><td>1.038478    </td><td> 1.8561366  </td><td>-0.8940491  </td><td>-0.8017678  </td><td> 0.08744452 </td><td> 0.005232996</td><td>-0.2697231  </td></tr>\n",
       "</tbody>\n",
       "</table>\n"
      ],
      "text/latex": [
       "\\begin{tabular}{llllllll}\n",
       " longitude & latitude & housing\\_median\\_age & population & households & median\\_income & mean\\_bedrooms & mean\\_rooms\\\\\n",
       "\\hline\n",
       "\t -1.327803    & 1.052523     &  0.9821189   & -0.9744050   & -0.9770092   &  2.34470896  & -0.148510661 &  0.6285442  \\\\\n",
       "\t -1.322812    & 1.043159     & -0.6070042   &  0.8614180   &  1.6699206   &  2.33218146  & -0.248535936 &  0.3270334  \\\\\n",
       "\t -1.332794    & 1.038478     &  1.8561366   & -0.8207575   & -0.8436165   &  1.78265622  & -0.052900657 &  1.1555925  \\\\\n",
       "\t -1.337785    & 1.038478     &  1.8561366   & -0.7660095   & -0.7337637   &  0.93294491  & -0.053646030 &  0.1569623  \\\\\n",
       "\t -1.337785    & 1.038478     &  1.8561366   & -0.7598283   & -0.6291419   & -0.01288068  & -0.038194658 &  0.3447024  \\\\\n",
       "\t -1.337785    & 1.038478     &  1.8561366   & -0.8940491   & -0.8017678   &  0.08744452  &  0.005232996 & -0.2697231  \\\\\n",
       "\\end{tabular}\n"
      ],
      "text/markdown": [
       "\n",
       "longitude | latitude | housing_median_age | population | households | median_income | mean_bedrooms | mean_rooms | \n",
       "|---|---|---|---|---|---|\n",
       "| -1.327803    | 1.052523     |  0.9821189   | -0.9744050   | -0.9770092   |  2.34470896  | -0.148510661 |  0.6285442   | \n",
       "| -1.322812    | 1.043159     | -0.6070042   |  0.8614180   |  1.6699206   |  2.33218146  | -0.248535936 |  0.3270334   | \n",
       "| -1.332794    | 1.038478     |  1.8561366   | -0.8207575   | -0.8436165   |  1.78265622  | -0.052900657 |  1.1555925   | \n",
       "| -1.337785    | 1.038478     |  1.8561366   | -0.7660095   | -0.7337637   |  0.93294491  | -0.053646030 |  0.1569623   | \n",
       "| -1.337785    | 1.038478     |  1.8561366   | -0.7598283   | -0.6291419   | -0.01288068  | -0.038194658 |  0.3447024   | \n",
       "| -1.337785    | 1.038478     |  1.8561366   | -0.8940491   | -0.8017678   |  0.08744452  |  0.005232996 | -0.2697231   | \n",
       "\n",
       "\n"
      ],
      "text/plain": [
       "     longitude latitude housing_median_age population households median_income\n",
       "[1,] -1.327803 1.052523  0.9821189         -0.9744050 -0.9770092  2.34470896  \n",
       "[2,] -1.322812 1.043159 -0.6070042          0.8614180  1.6699206  2.33218146  \n",
       "[3,] -1.332794 1.038478  1.8561366         -0.8207575 -0.8436165  1.78265622  \n",
       "[4,] -1.337785 1.038478  1.8561366         -0.7660095 -0.7337637  0.93294491  \n",
       "[5,] -1.337785 1.038478  1.8561366         -0.7598283 -0.6291419 -0.01288068  \n",
       "[6,] -1.337785 1.038478  1.8561366         -0.8940491 -0.8017678  0.08744452  \n",
       "     mean_bedrooms mean_rooms\n",
       "[1,] -0.148510661   0.6285442\n",
       "[2,] -0.248535936   0.3270334\n",
       "[3,] -0.052900657   1.1555925\n",
       "[4,] -0.053646030   0.1569623\n",
       "[5,] -0.038194658   0.3447024\n",
       "[6,]  0.005232996  -0.2697231"
      ]
     },
     "metadata": {},
     "output_type": "display_data"
    }
   ],
   "source": [
    "head(scaled_housing_num)"
   ]
  },
  {
   "cell_type": "markdown",
   "metadata": {},
   "source": [
    "#### Merge the altered numerical and categorical dataframes"
   ]
  },
  {
   "cell_type": "code",
   "execution_count": 62,
   "metadata": {
    "collapsed": true
   },
   "outputs": [],
   "source": [
    "# cbind is used to merge two data frames.\n",
    "\n",
    "cleaned_housing = cbind(cat_housing, scaled_housing_num, median_house_value=housing$median_house_value)"
   ]
  },
  {
   "cell_type": "code",
   "execution_count": 63,
   "metadata": {},
   "outputs": [
    {
     "data": {
      "text/html": [
       "<table>\n",
       "<thead><tr><th scope=col>NEAR BAY</th><th scope=col>&lt;1H OCEAN</th><th scope=col>INLAND</th><th scope=col>NEAR OCEAN</th><th scope=col>ISLAND</th><th scope=col>longitude</th><th scope=col>latitude</th><th scope=col>housing_median_age</th><th scope=col>population</th><th scope=col>households</th><th scope=col>median_income</th><th scope=col>mean_bedrooms</th><th scope=col>mean_rooms</th><th scope=col>median_house_value</th></tr></thead>\n",
       "<tbody>\n",
       "\t<tr><td>1           </td><td>0           </td><td>0           </td><td>0           </td><td>0           </td><td>-1.327803   </td><td>1.052523    </td><td> 0.9821189  </td><td>-0.9744050  </td><td>-0.9770092  </td><td> 2.34470896 </td><td>-0.148510661</td><td> 0.6285442  </td><td>452600      </td></tr>\n",
       "\t<tr><td>1           </td><td>0           </td><td>0           </td><td>0           </td><td>0           </td><td>-1.322812   </td><td>1.043159    </td><td>-0.6070042  </td><td> 0.8614180  </td><td> 1.6699206  </td><td> 2.33218146 </td><td>-0.248535936</td><td> 0.3270334  </td><td>358500      </td></tr>\n",
       "\t<tr><td>1           </td><td>0           </td><td>0           </td><td>0           </td><td>0           </td><td>-1.332794   </td><td>1.038478    </td><td> 1.8561366  </td><td>-0.8207575  </td><td>-0.8436165  </td><td> 1.78265622 </td><td>-0.052900657</td><td> 1.1555925  </td><td>352100      </td></tr>\n",
       "\t<tr><td>1           </td><td>0           </td><td>0           </td><td>0           </td><td>0           </td><td>-1.337785   </td><td>1.038478    </td><td> 1.8561366  </td><td>-0.7660095  </td><td>-0.7337637  </td><td> 0.93294491 </td><td>-0.053646030</td><td> 0.1569623  </td><td>341300      </td></tr>\n",
       "\t<tr><td>1           </td><td>0           </td><td>0           </td><td>0           </td><td>0           </td><td>-1.337785   </td><td>1.038478    </td><td> 1.8561366  </td><td>-0.7598283  </td><td>-0.6291419  </td><td>-0.01288068 </td><td>-0.038194658</td><td> 0.3447024  </td><td>342200      </td></tr>\n",
       "\t<tr><td>1           </td><td>0           </td><td>0           </td><td>0           </td><td>0           </td><td>-1.337785   </td><td>1.038478    </td><td> 1.8561366  </td><td>-0.8940491  </td><td>-0.8017678  </td><td> 0.08744452 </td><td> 0.005232996</td><td>-0.2697231  </td><td>269700      </td></tr>\n",
       "</tbody>\n",
       "</table>\n"
      ],
      "text/latex": [
       "\\begin{tabular}{r|llllllllllllll}\n",
       " NEAR BAY & <1H OCEAN & INLAND & NEAR OCEAN & ISLAND & longitude & latitude & housing\\_median\\_age & population & households & median\\_income & mean\\_bedrooms & mean\\_rooms & median\\_house\\_value\\\\\n",
       "\\hline\n",
       "\t 1            & 0            & 0            & 0            & 0            & -1.327803    & 1.052523     &  0.9821189   & -0.9744050   & -0.9770092   &  2.34470896  & -0.148510661 &  0.6285442   & 452600      \\\\\n",
       "\t 1            & 0            & 0            & 0            & 0            & -1.322812    & 1.043159     & -0.6070042   &  0.8614180   &  1.6699206   &  2.33218146  & -0.248535936 &  0.3270334   & 358500      \\\\\n",
       "\t 1            & 0            & 0            & 0            & 0            & -1.332794    & 1.038478     &  1.8561366   & -0.8207575   & -0.8436165   &  1.78265622  & -0.052900657 &  1.1555925   & 352100      \\\\\n",
       "\t 1            & 0            & 0            & 0            & 0            & -1.337785    & 1.038478     &  1.8561366   & -0.7660095   & -0.7337637   &  0.93294491  & -0.053646030 &  0.1569623   & 341300      \\\\\n",
       "\t 1            & 0            & 0            & 0            & 0            & -1.337785    & 1.038478     &  1.8561366   & -0.7598283   & -0.6291419   & -0.01288068  & -0.038194658 &  0.3447024   & 342200      \\\\\n",
       "\t 1            & 0            & 0            & 0            & 0            & -1.337785    & 1.038478     &  1.8561366   & -0.8940491   & -0.8017678   &  0.08744452  &  0.005232996 & -0.2697231   & 269700      \\\\\n",
       "\\end{tabular}\n"
      ],
      "text/markdown": [
       "\n",
       "NEAR BAY | <1H OCEAN | INLAND | NEAR OCEAN | ISLAND | longitude | latitude | housing_median_age | population | households | median_income | mean_bedrooms | mean_rooms | median_house_value | \n",
       "|---|---|---|---|---|---|\n",
       "| 1            | 0            | 0            | 0            | 0            | -1.327803    | 1.052523     |  0.9821189   | -0.9744050   | -0.9770092   |  2.34470896  | -0.148510661 |  0.6285442   | 452600       | \n",
       "| 1            | 0            | 0            | 0            | 0            | -1.322812    | 1.043159     | -0.6070042   |  0.8614180   |  1.6699206   |  2.33218146  | -0.248535936 |  0.3270334   | 358500       | \n",
       "| 1            | 0            | 0            | 0            | 0            | -1.332794    | 1.038478     |  1.8561366   | -0.8207575   | -0.8436165   |  1.78265622  | -0.052900657 |  1.1555925   | 352100       | \n",
       "| 1            | 0            | 0            | 0            | 0            | -1.337785    | 1.038478     |  1.8561366   | -0.7660095   | -0.7337637   |  0.93294491  | -0.053646030 |  0.1569623   | 341300       | \n",
       "| 1            | 0            | 0            | 0            | 0            | -1.337785    | 1.038478     |  1.8561366   | -0.7598283   | -0.6291419   | -0.01288068  | -0.038194658 |  0.3447024   | 342200       | \n",
       "| 1            | 0            | 0            | 0            | 0            | -1.337785    | 1.038478     |  1.8561366   | -0.8940491   | -0.8017678   |  0.08744452  |  0.005232996 | -0.2697231   | 269700       | \n",
       "\n",
       "\n"
      ],
      "text/plain": [
       "  NEAR BAY <1H OCEAN INLAND NEAR OCEAN ISLAND longitude latitude\n",
       "1 1        0         0      0          0      -1.327803 1.052523\n",
       "2 1        0         0      0          0      -1.322812 1.043159\n",
       "3 1        0         0      0          0      -1.332794 1.038478\n",
       "4 1        0         0      0          0      -1.337785 1.038478\n",
       "5 1        0         0      0          0      -1.337785 1.038478\n",
       "6 1        0         0      0          0      -1.337785 1.038478\n",
       "  housing_median_age population households median_income mean_bedrooms\n",
       "1  0.9821189         -0.9744050 -0.9770092  2.34470896   -0.148510661 \n",
       "2 -0.6070042          0.8614180  1.6699206  2.33218146   -0.248535936 \n",
       "3  1.8561366         -0.8207575 -0.8436165  1.78265622   -0.052900657 \n",
       "4  1.8561366         -0.7660095 -0.7337637  0.93294491   -0.053646030 \n",
       "5  1.8561366         -0.7598283 -0.6291419 -0.01288068   -0.038194658 \n",
       "6  1.8561366         -0.8940491 -0.8017678  0.08744452    0.005232996 \n",
       "  mean_rooms median_house_value\n",
       "1  0.6285442 452600            \n",
       "2  0.3270334 358500            \n",
       "3  1.1555925 352100            \n",
       "4  0.1569623 341300            \n",
       "5  0.3447024 342200            \n",
       "6 -0.2697231 269700            "
      ]
     },
     "metadata": {},
     "output_type": "display_data"
    }
   ],
   "source": [
    "head(cleaned_housing)"
   ]
  },
  {
   "cell_type": "markdown",
   "metadata": {},
   "source": [
    "## Step 3. Create a test set of data"
   ]
  },
  {
   "cell_type": "markdown",
   "metadata": {},
   "source": [
    "We pull this subsection from the main dataframe and put it to the side to not be looked at prior to testing our models. Don't look at it, as snooping the test data introduces a bias to your work!\n",
    "\n",
    "This is the data we use to validate our model, when we train a machine learning algorithm the goal is usually to make an algorithm that predicts well on data it hasn't seen before. To assess this feature, we pull a set of data to validate the models as accurate/inaccurate once we have completed the training proces"
   ]
  },
  {
   "cell_type": "code",
   "execution_count": 64,
   "metadata": {
    "collapsed": true
   },
   "outputs": [],
   "source": [
    "set.seed(1738) # Set a random seed so that same sample can be reproduced in future runs\n",
    "\n",
    "sample = sample.int(n = nrow(cleaned_housing), size = floor(.8 * nrow(cleaned_housing)), replace = F)\n",
    "train = cleaned_housing[sample, ] #just the samples\n",
    "test  = cleaned_housing[-sample, ] #everything but the samples"
   ]
  },
  {
   "cell_type": "code",
   "execution_count": 66,
   "metadata": {},
   "outputs": [
    {
     "data": {
      "text/html": [
       "4128"
      ],
      "text/latex": [
       "4128"
      ],
      "text/markdown": [
       "4128"
      ],
      "text/plain": [
       "[1] 4128"
      ]
     },
     "metadata": {},
     "output_type": "display_data"
    }
   ],
   "source": [
    "nrow(test)"
   ]
  },
  {
   "cell_type": "code",
   "execution_count": 67,
   "metadata": {},
   "outputs": [
    {
     "data": {
      "text/html": [
       "16512"
      ],
      "text/latex": [
       "16512"
      ],
      "text/markdown": [
       "16512"
      ],
      "text/plain": [
       "[1] 16512"
      ]
     },
     "metadata": {},
     "output_type": "display_data"
    }
   ],
   "source": [
    "nrow(train)"
   ]
  },
  {
   "cell_type": "markdown",
   "metadata": {},
   "source": [
    "## Step 4. Test some predictive models.\n",
    "We start here with just a simple linear model using 3 of the avaliable predictors. Median income, total rooms and population. This serves as an entry point to introduce the topic of cross validation and a basic model. We want a model that makes good predictions on data that it has not seen before. A model that explains the variation in the data it was trained on well, but does not generalize to external data is referred to as being overfit. You may thin \"that's why we split off some test data!\" but we don't want to repeatedly assess against our test set, as then the model can just become overfit to that set of data thus moving and not solving the problem.\n",
    "\n",
    "So here we do cross validation to test the model using the training data itself. Our K is 5, what this means is that the training data is split into 5 equal portions. One of the 5 folds is put to the side (as a mini test data set) and then the model is trained using the other 4 portions. After that the predictions are made on the folds that was withheld, and the process is repeated for each of the 5 folds and the average predictions produced from the iterations of the model is taken. This gives us a rough understanding of how well the model predicts on external data!"
   ]
  },
  {
   "cell_type": "code",
   "execution_count": 68,
   "metadata": {
    "collapsed": true
   },
   "outputs": [],
   "source": [
    "library('boot')"
   ]
  },
  {
   "cell_type": "code",
   "execution_count": 73,
   "metadata": {
    "collapsed": true
   },
   "outputs": [],
   "source": [
    "?cv.glm # note the K option for K fold cross validation"
   ]
  },
  {
   "cell_type": "code",
   "execution_count": 134,
   "metadata": {},
   "outputs": [],
   "source": [
    "# explain proc GLM and Cross Validation and Kfold.\n",
    "\n",
    "glm_house = glm(median_house_value~median_income+mean_bedrooms+longitude+latitude+housing_median_age , data=cleaned_housing)\n",
    "k_fold_cv_error = cv.glm(cleaned_housing , glm_house, K=5)"
   ]
  },
  {
   "cell_type": "code",
   "execution_count": 135,
   "metadata": {},
   "outputs": [
    {
     "data": {
      "text/html": [
       "<ol class=list-inline>\n",
       "\t<li>5400637835.15415</li>\n",
       "\t<li>5396063164.84715</li>\n",
       "</ol>\n"
      ],
      "text/latex": [
       "\\begin{enumerate*}\n",
       "\\item 5400637835.15415\n",
       "\\item 5396063164.84715\n",
       "\\end{enumerate*}\n"
      ],
      "text/markdown": [
       "1. 5400637835.15415\n",
       "2. 5396063164.84715\n",
       "\n",
       "\n"
      ],
      "text/plain": [
       "[1] 5400637835 5396063165"
      ]
     },
     "metadata": {},
     "output_type": "display_data"
    }
   ],
   "source": [
    "k_fold_cv_error$delta"
   ]
  },
  {
   "cell_type": "markdown",
   "metadata": {},
   "source": [
    "The first component is the raw cross-validation estimate of prediction error. The second component is the adjusted cross-validation estimate."
   ]
  },
  {
   "cell_type": "code",
   "execution_count": 140,
   "metadata": {},
   "outputs": [
    {
     "data": {
      "text/html": [
       "73457.9006291845"
      ],
      "text/latex": [
       "73457.9006291845"
      ],
      "text/markdown": [
       "73457.9006291845"
      ],
      "text/plain": [
       "[1] 73457.9"
      ]
     },
     "metadata": {},
     "output_type": "display_data"
    }
   ],
   "source": [
    "glm_cv_rmse = sqrt(k_fold_cv_error$delta)[2]\n",
    "glm_cv_rmse #off by about $73457... it is a start"
   ]
  },
  {
   "cell_type": "code",
   "execution_count": 138,
   "metadata": {},
   "outputs": [
    {
     "data": {
      "text/html": [
       "<ol class=list-inline>\n",
       "\t<li>'coefficients'</li>\n",
       "\t<li>'residuals'</li>\n",
       "\t<li>'fitted.values'</li>\n",
       "\t<li>'effects'</li>\n",
       "\t<li>'R'</li>\n",
       "\t<li>'rank'</li>\n",
       "\t<li>'qr'</li>\n",
       "\t<li>'family'</li>\n",
       "\t<li>'linear.predictors'</li>\n",
       "\t<li>'deviance'</li>\n",
       "\t<li>'aic'</li>\n",
       "\t<li>'null.deviance'</li>\n",
       "\t<li>'iter'</li>\n",
       "\t<li>'weights'</li>\n",
       "\t<li>'prior.weights'</li>\n",
       "\t<li>'df.residual'</li>\n",
       "\t<li>'df.null'</li>\n",
       "\t<li>'y'</li>\n",
       "\t<li>'converged'</li>\n",
       "\t<li>'boundary'</li>\n",
       "\t<li>'model'</li>\n",
       "\t<li>'call'</li>\n",
       "\t<li>'formula'</li>\n",
       "\t<li>'terms'</li>\n",
       "\t<li>'data'</li>\n",
       "\t<li>'offset'</li>\n",
       "\t<li>'control'</li>\n",
       "\t<li>'method'</li>\n",
       "\t<li>'contrasts'</li>\n",
       "\t<li>'xlevels'</li>\n",
       "</ol>\n"
      ],
      "text/latex": [
       "\\begin{enumerate*}\n",
       "\\item 'coefficients'\n",
       "\\item 'residuals'\n",
       "\\item 'fitted.values'\n",
       "\\item 'effects'\n",
       "\\item 'R'\n",
       "\\item 'rank'\n",
       "\\item 'qr'\n",
       "\\item 'family'\n",
       "\\item 'linear.predictors'\n",
       "\\item 'deviance'\n",
       "\\item 'aic'\n",
       "\\item 'null.deviance'\n",
       "\\item 'iter'\n",
       "\\item 'weights'\n",
       "\\item 'prior.weights'\n",
       "\\item 'df.residual'\n",
       "\\item 'df.null'\n",
       "\\item 'y'\n",
       "\\item 'converged'\n",
       "\\item 'boundary'\n",
       "\\item 'model'\n",
       "\\item 'call'\n",
       "\\item 'formula'\n",
       "\\item 'terms'\n",
       "\\item 'data'\n",
       "\\item 'offset'\n",
       "\\item 'control'\n",
       "\\item 'method'\n",
       "\\item 'contrasts'\n",
       "\\item 'xlevels'\n",
       "\\end{enumerate*}\n"
      ],
      "text/markdown": [
       "1. 'coefficients'\n",
       "2. 'residuals'\n",
       "3. 'fitted.values'\n",
       "4. 'effects'\n",
       "5. 'R'\n",
       "6. 'rank'\n",
       "7. 'qr'\n",
       "8. 'family'\n",
       "9. 'linear.predictors'\n",
       "10. 'deviance'\n",
       "11. 'aic'\n",
       "12. 'null.deviance'\n",
       "13. 'iter'\n",
       "14. 'weights'\n",
       "15. 'prior.weights'\n",
       "16. 'df.residual'\n",
       "17. 'df.null'\n",
       "18. 'y'\n",
       "19. 'converged'\n",
       "20. 'boundary'\n",
       "21. 'model'\n",
       "22. 'call'\n",
       "23. 'formula'\n",
       "24. 'terms'\n",
       "25. 'data'\n",
       "26. 'offset'\n",
       "27. 'control'\n",
       "28. 'method'\n",
       "29. 'contrasts'\n",
       "30. 'xlevels'\n",
       "\n",
       "\n"
      ],
      "text/plain": [
       " [1] \"coefficients\"      \"residuals\"         \"fitted.values\"    \n",
       " [4] \"effects\"           \"R\"                 \"rank\"             \n",
       " [7] \"qr\"                \"family\"            \"linear.predictors\"\n",
       "[10] \"deviance\"          \"aic\"               \"null.deviance\"    \n",
       "[13] \"iter\"              \"weights\"           \"prior.weights\"    \n",
       "[16] \"df.residual\"       \"df.null\"           \"y\"                \n",
       "[19] \"converged\"         \"boundary\"          \"model\"            \n",
       "[22] \"call\"              \"formula\"           \"terms\"            \n",
       "[25] \"data\"              \"offset\"            \"control\"          \n",
       "[28] \"method\"            \"contrasts\"         \"xlevels\"          "
      ]
     },
     "metadata": {},
     "output_type": "display_data"
    }
   ],
   "source": [
    "names(glm_house) #what parts of the model are callable?"
   ]
  },
  {
   "cell_type": "code",
   "execution_count": 139,
   "metadata": {},
   "outputs": [
    {
     "data": {
      "text/html": [
       "<dl class=dl-horizontal>\n",
       "\t<dt>(Intercept)</dt>\n",
       "\t\t<dd>206855.816908917</dd>\n",
       "\t<dt>median_income</dt>\n",
       "\t\t<dd>71932.8717278136</dd>\n",
       "\t<dt>mean_bedrooms</dt>\n",
       "\t\t<dd>6605.59525412856</dd>\n",
       "\t<dt>longitude</dt>\n",
       "\t\t<dd>-93633.5238017098</dd>\n",
       "\t<dt>latitude</dt>\n",
       "\t\t<dd>-98041.2194906309</dd>\n",
       "\t<dt>housing_median_age</dt>\n",
       "\t\t<dd>12112.7465761013</dd>\n",
       "</dl>\n"
      ],
      "text/latex": [
       "\\begin{description*}\n",
       "\\item[(Intercept)] 206855.816908917\n",
       "\\item[median\\textbackslash{}\\_income] 71932.8717278136\n",
       "\\item[mean\\textbackslash{}\\_bedrooms] 6605.59525412856\n",
       "\\item[longitude] -93633.5238017098\n",
       "\\item[latitude] -98041.2194906309\n",
       "\\item[housing\\textbackslash{}\\_median\\textbackslash{}\\_age] 12112.7465761013\n",
       "\\end{description*}\n"
      ],
      "text/markdown": [
       "(Intercept)\n",
       ":   206855.816908917median_income\n",
       ":   71932.8717278136mean_bedrooms\n",
       ":   6605.59525412856longitude\n",
       ":   -93633.5238017098latitude\n",
       ":   -98041.2194906309housing_median_age\n",
       ":   12112.7465761013\n",
       "\n"
      ],
      "text/plain": [
       "       (Intercept)      median_income      mean_bedrooms          longitude \n",
       "        206855.817          71932.872           6605.595         -93633.524 \n",
       "          latitude housing_median_age \n",
       "        -98041.219          12112.747 "
      ]
     },
     "metadata": {},
     "output_type": "display_data"
    }
   ],
   "source": [
    "glm_house$coefficients"
   ]
  },
  {
   "cell_type": "markdown",
   "metadata": {},
   "source": [
    "Since we scaled the imputs we can say that of the three we looked at, median income had the biggest effect on housing price... but I'm always very careful and google lots before intrepreting coefficients!"
   ]
  },
  {
   "cell_type": "code",
   "execution_count": 88,
   "metadata": {},
   "outputs": [
    {
     "data": {
      "text/html": [
       "<ol class=list-inline>\n",
       "\t<li>'NEAR BAY'</li>\n",
       "\t<li>'&lt;1H OCEAN'</li>\n",
       "\t<li>'INLAND'</li>\n",
       "\t<li>'NEAR OCEAN'</li>\n",
       "\t<li>'ISLAND'</li>\n",
       "\t<li>'longitude'</li>\n",
       "\t<li>'latitude'</li>\n",
       "\t<li>'housing_median_age'</li>\n",
       "\t<li>'population'</li>\n",
       "\t<li>'households'</li>\n",
       "\t<li>'median_income'</li>\n",
       "\t<li>'mean_bedrooms'</li>\n",
       "\t<li>'mean_rooms'</li>\n",
       "\t<li>'median_house_value'</li>\n",
       "</ol>\n"
      ],
      "text/latex": [
       "\\begin{enumerate*}\n",
       "\\item 'NEAR BAY'\n",
       "\\item '<1H OCEAN'\n",
       "\\item 'INLAND'\n",
       "\\item 'NEAR OCEAN'\n",
       "\\item 'ISLAND'\n",
       "\\item 'longitude'\n",
       "\\item 'latitude'\n",
       "\\item 'housing\\_median\\_age'\n",
       "\\item 'population'\n",
       "\\item 'households'\n",
       "\\item 'median\\_income'\n",
       "\\item 'mean\\_bedrooms'\n",
       "\\item 'mean\\_rooms'\n",
       "\\item 'median\\_house\\_value'\n",
       "\\end{enumerate*}\n"
      ],
      "text/markdown": [
       "1. 'NEAR BAY'\n",
       "2. '&lt;1H OCEAN'\n",
       "3. 'INLAND'\n",
       "4. 'NEAR OCEAN'\n",
       "5. 'ISLAND'\n",
       "6. 'longitude'\n",
       "7. 'latitude'\n",
       "8. 'housing_median_age'\n",
       "9. 'population'\n",
       "10. 'households'\n",
       "11. 'median_income'\n",
       "12. 'mean_bedrooms'\n",
       "13. 'mean_rooms'\n",
       "14. 'median_house_value'\n",
       "\n",
       "\n"
      ],
      "text/plain": [
       " [1] \"NEAR BAY\"           \"<1H OCEAN\"          \"INLAND\"            \n",
       " [4] \"NEAR OCEAN\"         \"ISLAND\"             \"longitude\"         \n",
       " [7] \"latitude\"           \"housing_median_age\" \"population\"        \n",
       "[10] \"households\"         \"median_income\"      \"mean_bedrooms\"     \n",
       "[13] \"mean_rooms\"         \"median_house_value\""
      ]
     },
     "metadata": {},
     "output_type": "display_data"
    }
   ],
   "source": [
    "colnames(cleaned_housing)"
   ]
  },
  {
   "cell_type": "markdown",
   "metadata": {},
   "source": [
    "#### Random forest model"
   ]
  },
  {
   "cell_type": "code",
   "execution_count": 89,
   "metadata": {},
   "outputs": [
    {
     "name": "stderr",
     "output_type": "stream",
     "text": [
      "randomForest 4.6-12\n",
      "Type rfNews() to see new features/changes/bug fixes.\n",
      "\n",
      "Attaching package: 'randomForest'\n",
      "\n",
      "The following object is masked from 'package:dplyr':\n",
      "\n",
      "    combine\n",
      "\n",
      "The following object is masked from 'package:ggplot2':\n",
      "\n",
      "    margin\n",
      "\n"
     ]
    }
   ],
   "source": [
    "library('randomForest')"
   ]
  },
  {
   "cell_type": "code",
   "execution_count": 90,
   "metadata": {
    "collapsed": true
   },
   "outputs": [],
   "source": [
    "?randomForest"
   ]
  },
  {
   "cell_type": "code",
   "execution_count": 91,
   "metadata": {},
   "outputs": [
    {
     "data": {
      "text/html": [
       "<ol class=list-inline>\n",
       "\t<li>'NEAR BAY'</li>\n",
       "\t<li>'&lt;1H OCEAN'</li>\n",
       "\t<li>'INLAND'</li>\n",
       "\t<li>'NEAR OCEAN'</li>\n",
       "\t<li>'ISLAND'</li>\n",
       "\t<li>'longitude'</li>\n",
       "\t<li>'latitude'</li>\n",
       "\t<li>'housing_median_age'</li>\n",
       "\t<li>'population'</li>\n",
       "\t<li>'households'</li>\n",
       "\t<li>'median_income'</li>\n",
       "\t<li>'mean_bedrooms'</li>\n",
       "\t<li>'mean_rooms'</li>\n",
       "\t<li>'median_house_value'</li>\n",
       "</ol>\n"
      ],
      "text/latex": [
       "\\begin{enumerate*}\n",
       "\\item 'NEAR BAY'\n",
       "\\item '<1H OCEAN'\n",
       "\\item 'INLAND'\n",
       "\\item 'NEAR OCEAN'\n",
       "\\item 'ISLAND'\n",
       "\\item 'longitude'\n",
       "\\item 'latitude'\n",
       "\\item 'housing\\_median\\_age'\n",
       "\\item 'population'\n",
       "\\item 'households'\n",
       "\\item 'median\\_income'\n",
       "\\item 'mean\\_bedrooms'\n",
       "\\item 'mean\\_rooms'\n",
       "\\item 'median\\_house\\_value'\n",
       "\\end{enumerate*}\n"
      ],
      "text/markdown": [
       "1. 'NEAR BAY'\n",
       "2. '&lt;1H OCEAN'\n",
       "3. 'INLAND'\n",
       "4. 'NEAR OCEAN'\n",
       "5. 'ISLAND'\n",
       "6. 'longitude'\n",
       "7. 'latitude'\n",
       "8. 'housing_median_age'\n",
       "9. 'population'\n",
       "10. 'households'\n",
       "11. 'median_income'\n",
       "12. 'mean_bedrooms'\n",
       "13. 'mean_rooms'\n",
       "14. 'median_house_value'\n",
       "\n",
       "\n"
      ],
      "text/plain": [
       " [1] \"NEAR BAY\"           \"<1H OCEAN\"          \"INLAND\"            \n",
       " [4] \"NEAR OCEAN\"         \"ISLAND\"             \"longitude\"         \n",
       " [7] \"latitude\"           \"housing_median_age\" \"population\"        \n",
       "[10] \"households\"         \"median_income\"      \"mean_bedrooms\"     \n",
       "[13] \"mean_rooms\"         \"median_house_value\""
      ]
     },
     "metadata": {},
     "output_type": "display_data"
    }
   ],
   "source": [
    "names(train)"
   ]
  },
  {
   "cell_type": "code",
   "execution_count": 92,
   "metadata": {},
   "outputs": [
    {
     "data": {
      "text/html": [
       "<ol class=list-inline>\n",
       "\t<li>112500</li>\n",
       "\t<li>65600</li>\n",
       "\t<li>399200</li>\n",
       "\t<li>47500</li>\n",
       "\t<li>32500</li>\n",
       "\t<li>2e+05</li>\n",
       "</ol>\n"
      ],
      "text/latex": [
       "\\begin{enumerate*}\n",
       "\\item 112500\n",
       "\\item 65600\n",
       "\\item 399200\n",
       "\\item 47500\n",
       "\\item 32500\n",
       "\\item 2e+05\n",
       "\\end{enumerate*}\n"
      ],
      "text/markdown": [
       "1. 112500\n",
       "2. 65600\n",
       "3. 399200\n",
       "4. 47500\n",
       "5. 32500\n",
       "6. 2e+05\n",
       "\n",
       "\n"
      ],
      "text/plain": [
       "[1] 112500  65600 399200  47500  32500 200000"
      ]
     },
     "metadata": {},
     "output_type": "display_data"
    },
    {
     "data": {
      "text/html": [
       "<table>\n",
       "<thead><tr><th></th><th scope=col>NEAR BAY</th><th scope=col>&lt;1H OCEAN</th><th scope=col>INLAND</th><th scope=col>NEAR OCEAN</th><th scope=col>ISLAND</th><th scope=col>longitude</th><th scope=col>latitude</th><th scope=col>housing_median_age</th><th scope=col>population</th><th scope=col>households</th><th scope=col>median_income</th><th scope=col>mean_bedrooms</th><th scope=col>mean_rooms</th></tr></thead>\n",
       "<tbody>\n",
       "\t<tr><th scope=row>4975</th><td>0          </td><td>1          </td><td>0          </td><td>0          </td><td>0          </td><td>0.6437155  </td><td>-0.7639971 </td><td> 1.0615750 </td><td>-0.4728430 </td><td>-0.6605285 </td><td>-1.36479701</td><td> 0.09416648</td><td>-0.79519952</td></tr>\n",
       "\t<tr><th scope=row>13918</th><td>0          </td><td>0          </td><td>1          </td><td>0          </td><td>0          </td><td>1.7567501  </td><td>-0.7078161 </td><td>-0.7659165 </td><td>-1.1262865 </td><td>-1.1600972 </td><td>-0.39249525</td><td> 0.11519417</td><td>-0.02182537</td></tr>\n",
       "\t<tr><th scope=row>9020</th><td>0          </td><td>0          </td><td>0          </td><td>1          </td><td>0          </td><td>0.3941562  </td><td>-0.6890891 </td><td>-1.5604781 </td><td>10.1085264 </td><td> 8.9751328 </td><td> 2.18074620</td><td>-0.11499230</td><td> 0.93189653</td></tr>\n",
       "\t<tr><th scope=row>2900</th><td>0          </td><td>0          </td><td>1          </td><td>0          </td><td>0          </td><td>0.2793589  </td><td>-0.1225970 </td><td> 0.5053819 </td><td>-0.8375351 </td><td>-1.1993304 </td><td>-1.03071303</td><td>-0.47625410</td><td>-1.01131583</td></tr>\n",
       "\t<tr><th scope=row>2764</th><td>0          </td><td>0          </td><td>1          </td><td>0          </td><td>0          </td><td>1.8416002  </td><td>-1.2649446 </td><td>-1.0837411 </td><td>-1.2137066 </td><td>-1.2542568 </td><td> 0.07902268</td><td> 2.59860572</td><td> 2.00915618</td></tr>\n",
       "\t<tr><th scope=row>5786</th><td>0          </td><td>1          </td><td>0          </td><td>0          </td><td>0          </td><td>0.6586891  </td><td>-0.6890891 </td><td>-1.1631973 </td><td> 0.2256351 </td><td> 1.0604990 </td><td> 0.01828013</td><td>-0.10923682</td><td>-0.54183837</td></tr>\n",
       "</tbody>\n",
       "</table>\n"
      ],
      "text/latex": [
       "\\begin{tabular}{r|lllllllllllll}\n",
       "  & NEAR BAY & <1H OCEAN & INLAND & NEAR OCEAN & ISLAND & longitude & latitude & housing\\_median\\_age & population & households & median\\_income & mean\\_bedrooms & mean\\_rooms\\\\\n",
       "\\hline\n",
       "\t4975 & 0           & 1           & 0           & 0           & 0           & 0.6437155   & -0.7639971  &  1.0615750  & -0.4728430  & -0.6605285  & -1.36479701 &  0.09416648 & -0.79519952\\\\\n",
       "\t13918 & 0           & 0           & 1           & 0           & 0           & 1.7567501   & -0.7078161  & -0.7659165  & -1.1262865  & -1.1600972  & -0.39249525 &  0.11519417 & -0.02182537\\\\\n",
       "\t9020 & 0           & 0           & 0           & 1           & 0           & 0.3941562   & -0.6890891  & -1.5604781  & 10.1085264  &  8.9751328  &  2.18074620 & -0.11499230 &  0.93189653\\\\\n",
       "\t2900 & 0           & 0           & 1           & 0           & 0           & 0.2793589   & -0.1225970  &  0.5053819  & -0.8375351  & -1.1993304  & -1.03071303 & -0.47625410 & -1.01131583\\\\\n",
       "\t2764 & 0           & 0           & 1           & 0           & 0           & 1.8416002   & -1.2649446  & -1.0837411  & -1.2137066  & -1.2542568  &  0.07902268 &  2.59860572 &  2.00915618\\\\\n",
       "\t5786 & 0           & 1           & 0           & 0           & 0           & 0.6586891   & -0.6890891  & -1.1631973  &  0.2256351  &  1.0604990  &  0.01828013 & -0.10923682 & -0.54183837\\\\\n",
       "\\end{tabular}\n"
      ],
      "text/markdown": [
       "\n",
       "| <!--/--> | NEAR BAY | <1H OCEAN | INLAND | NEAR OCEAN | ISLAND | longitude | latitude | housing_median_age | population | households | median_income | mean_bedrooms | mean_rooms | \n",
       "|---|---|---|---|---|---|\n",
       "| 4975 | 0           | 1           | 0           | 0           | 0           | 0.6437155   | -0.7639971  |  1.0615750  | -0.4728430  | -0.6605285  | -1.36479701 |  0.09416648 | -0.79519952 | \n",
       "| 13918 | 0           | 0           | 1           | 0           | 0           | 1.7567501   | -0.7078161  | -0.7659165  | -1.1262865  | -1.1600972  | -0.39249525 |  0.11519417 | -0.02182537 | \n",
       "| 9020 | 0           | 0           | 0           | 1           | 0           | 0.3941562   | -0.6890891  | -1.5604781  | 10.1085264  |  8.9751328  |  2.18074620 | -0.11499230 |  0.93189653 | \n",
       "| 2900 | 0           | 0           | 1           | 0           | 0           | 0.2793589   | -0.1225970  |  0.5053819  | -0.8375351  | -1.1993304  | -1.03071303 | -0.47625410 | -1.01131583 | \n",
       "| 2764 | 0           | 0           | 1           | 0           | 0           | 1.8416002   | -1.2649446  | -1.0837411  | -1.2137066  | -1.2542568  |  0.07902268 |  2.59860572 |  2.00915618 | \n",
       "| 5786 | 0           | 1           | 0           | 0           | 0           | 0.6586891   | -0.6890891  | -1.1631973  |  0.2256351  |  1.0604990  |  0.01828013 | -0.10923682 | -0.54183837 | \n",
       "\n",
       "\n"
      ],
      "text/plain": [
       "      NEAR BAY <1H OCEAN INLAND NEAR OCEAN ISLAND longitude latitude  \n",
       "4975  0        1         0      0          0      0.6437155 -0.7639971\n",
       "13918 0        0         1      0          0      1.7567501 -0.7078161\n",
       "9020  0        0         0      1          0      0.3941562 -0.6890891\n",
       "2900  0        0         1      0          0      0.2793589 -0.1225970\n",
       "2764  0        0         1      0          0      1.8416002 -1.2649446\n",
       "5786  0        1         0      0          0      0.6586891 -0.6890891\n",
       "      housing_median_age population households median_income mean_bedrooms\n",
       "4975   1.0615750         -0.4728430 -0.6605285 -1.36479701    0.09416648  \n",
       "13918 -0.7659165         -1.1262865 -1.1600972 -0.39249525    0.11519417  \n",
       "9020  -1.5604781         10.1085264  8.9751328  2.18074620   -0.11499230  \n",
       "2900   0.5053819         -0.8375351 -1.1993304 -1.03071303   -0.47625410  \n",
       "2764  -1.0837411         -1.2137066 -1.2542568  0.07902268    2.59860572  \n",
       "5786  -1.1631973          0.2256351  1.0604990  0.01828013   -0.10923682  \n",
       "      mean_rooms \n",
       "4975  -0.79519952\n",
       "13918 -0.02182537\n",
       "9020   0.93189653\n",
       "2900  -1.01131583\n",
       "2764   2.00915618\n",
       "5786  -0.54183837"
      ]
     },
     "metadata": {},
     "output_type": "display_data"
    }
   ],
   "source": [
    "set.seed(1738)\n",
    "\n",
    "train_y = train[,'median_house_value']\n",
    "train_x = train[, names(train) !='median_house_value']\n",
    "\n",
    "head(train_y)\n",
    "head(train_x)"
   ]
  },
  {
   "cell_type": "code",
   "execution_count": 93,
   "metadata": {
    "collapsed": true
   },
   "outputs": [],
   "source": [
    "rf_model = randomForest(train_x, y = train_y , ntree = 500, importance = TRUE)"
   ]
  },
  {
   "cell_type": "code",
   "execution_count": 94,
   "metadata": {},
   "outputs": [
    {
     "data": {
      "text/html": [
       "<ol class=list-inline>\n",
       "\t<li>'call'</li>\n",
       "\t<li>'type'</li>\n",
       "\t<li>'predicted'</li>\n",
       "\t<li>'mse'</li>\n",
       "\t<li>'rsq'</li>\n",
       "\t<li>'oob.times'</li>\n",
       "\t<li>'importance'</li>\n",
       "\t<li>'importanceSD'</li>\n",
       "\t<li>'localImportance'</li>\n",
       "\t<li>'proximity'</li>\n",
       "\t<li>'ntree'</li>\n",
       "\t<li>'mtry'</li>\n",
       "\t<li>'forest'</li>\n",
       "\t<li>'coefs'</li>\n",
       "\t<li>'y'</li>\n",
       "\t<li>'test'</li>\n",
       "\t<li>'inbag'</li>\n",
       "</ol>\n"
      ],
      "text/latex": [
       "\\begin{enumerate*}\n",
       "\\item 'call'\n",
       "\\item 'type'\n",
       "\\item 'predicted'\n",
       "\\item 'mse'\n",
       "\\item 'rsq'\n",
       "\\item 'oob.times'\n",
       "\\item 'importance'\n",
       "\\item 'importanceSD'\n",
       "\\item 'localImportance'\n",
       "\\item 'proximity'\n",
       "\\item 'ntree'\n",
       "\\item 'mtry'\n",
       "\\item 'forest'\n",
       "\\item 'coefs'\n",
       "\\item 'y'\n",
       "\\item 'test'\n",
       "\\item 'inbag'\n",
       "\\end{enumerate*}\n"
      ],
      "text/markdown": [
       "1. 'call'\n",
       "2. 'type'\n",
       "3. 'predicted'\n",
       "4. 'mse'\n",
       "5. 'rsq'\n",
       "6. 'oob.times'\n",
       "7. 'importance'\n",
       "8. 'importanceSD'\n",
       "9. 'localImportance'\n",
       "10. 'proximity'\n",
       "11. 'ntree'\n",
       "12. 'mtry'\n",
       "13. 'forest'\n",
       "14. 'coefs'\n",
       "15. 'y'\n",
       "16. 'test'\n",
       "17. 'inbag'\n",
       "\n",
       "\n"
      ],
      "text/plain": [
       " [1] \"call\"            \"type\"            \"predicted\"       \"mse\"            \n",
       " [5] \"rsq\"             \"oob.times\"       \"importance\"      \"importanceSD\"   \n",
       " [9] \"localImportance\" \"proximity\"       \"ntree\"           \"mtry\"           \n",
       "[13] \"forest\"          \"coefs\"           \"y\"               \"test\"           \n",
       "[17] \"inbag\"          "
      ]
     },
     "metadata": {},
     "output_type": "display_data"
    }
   ],
   "source": [
    "names(rf_model) #these are all the different things you can call from the model."
   ]
  },
  {
   "cell_type": "code",
   "execution_count": 95,
   "metadata": {
    "scrolled": false
   },
   "outputs": [
    {
     "data": {
      "text/html": [
       "<table>\n",
       "<thead><tr><th></th><th scope=col>%IncMSE</th><th scope=col>IncNodePurity</th></tr></thead>\n",
       "<tbody>\n",
       "\t<tr><th scope=row>NEAR BAY</th><td> 471570753  </td><td>1.386134e+12</td></tr>\n",
       "\t<tr><th scope=row>&lt;1H OCEAN</th><td>1589525273  </td><td>3.934732e+12</td></tr>\n",
       "\t<tr><th scope=row>INLAND</th><td>4041972795  </td><td>3.010652e+13</td></tr>\n",
       "\t<tr><th scope=row>NEAR OCEAN</th><td> 505892227  </td><td>2.133809e+12</td></tr>\n",
       "\t<tr><th scope=row>ISLAND</th><td>   1608344  </td><td>6.900350e+10</td></tr>\n",
       "\t<tr><th scope=row>longitude</th><td>6800888175  </td><td>2.573286e+13</td></tr>\n",
       "\t<tr><th scope=row>latitude</th><td>5404868569  </td><td>2.224088e+13</td></tr>\n",
       "\t<tr><th scope=row>housing_median_age</th><td>1101454757  </td><td>9.896973e+12</td></tr>\n",
       "\t<tr><th scope=row>population</th><td>1049908169  </td><td>7.480374e+12</td></tr>\n",
       "\t<tr><th scope=row>households</th><td>1156877777  </td><td>7.922140e+12</td></tr>\n",
       "\t<tr><th scope=row>median_income</th><td>8288648272  </td><td>7.354195e+13</td></tr>\n",
       "\t<tr><th scope=row>mean_bedrooms</th><td> 462307992  </td><td>7.767073e+12</td></tr>\n",
       "\t<tr><th scope=row>mean_rooms</th><td>1788332497  </td><td>2.056660e+13</td></tr>\n",
       "</tbody>\n",
       "</table>\n"
      ],
      "text/latex": [
       "\\begin{tabular}{r|ll}\n",
       "  & \\%IncMSE & IncNodePurity\\\\\n",
       "\\hline\n",
       "\tNEAR BAY &  471570753   & 1.386134e+12\\\\\n",
       "\t<1H OCEAN & 1589525273   & 3.934732e+12\\\\\n",
       "\tINLAND & 4041972795   & 3.010652e+13\\\\\n",
       "\tNEAR OCEAN &  505892227   & 2.133809e+12\\\\\n",
       "\tISLAND &    1608344   & 6.900350e+10\\\\\n",
       "\tlongitude & 6800888175   & 2.573286e+13\\\\\n",
       "\tlatitude & 5404868569   & 2.224088e+13\\\\\n",
       "\thousing\\_median\\_age & 1101454757   & 9.896973e+12\\\\\n",
       "\tpopulation & 1049908169   & 7.480374e+12\\\\\n",
       "\thouseholds & 1156877777   & 7.922140e+12\\\\\n",
       "\tmedian\\_income & 8288648272   & 7.354195e+13\\\\\n",
       "\tmean\\_bedrooms &  462307992   & 7.767073e+12\\\\\n",
       "\tmean\\_rooms & 1788332497   & 2.056660e+13\\\\\n",
       "\\end{tabular}\n"
      ],
      "text/markdown": [
       "\n",
       "| <!--/--> | %IncMSE | IncNodePurity | \n",
       "|---|---|---|---|---|---|---|---|---|---|---|---|---|\n",
       "| NEAR BAY |  471570753   | 1.386134e+12 | \n",
       "| <1H OCEAN | 1589525273   | 3.934732e+12 | \n",
       "| INLAND | 4041972795   | 3.010652e+13 | \n",
       "| NEAR OCEAN |  505892227   | 2.133809e+12 | \n",
       "| ISLAND |    1608344   | 6.900350e+10 | \n",
       "| longitude | 6800888175   | 2.573286e+13 | \n",
       "| latitude | 5404868569   | 2.224088e+13 | \n",
       "| housing_median_age | 1101454757   | 9.896973e+12 | \n",
       "| population | 1049908169   | 7.480374e+12 | \n",
       "| households | 1156877777   | 7.922140e+12 | \n",
       "| median_income | 8288648272   | 7.354195e+13 | \n",
       "| mean_bedrooms |  462307992   | 7.767073e+12 | \n",
       "| mean_rooms | 1788332497   | 2.056660e+13 | \n",
       "\n",
       "\n"
      ],
      "text/plain": [
       "                   %IncMSE    IncNodePurity\n",
       "NEAR BAY            471570753 1.386134e+12 \n",
       "<1H OCEAN          1589525273 3.934732e+12 \n",
       "INLAND             4041972795 3.010652e+13 \n",
       "NEAR OCEAN          505892227 2.133809e+12 \n",
       "ISLAND                1608344 6.900350e+10 \n",
       "longitude          6800888175 2.573286e+13 \n",
       "latitude           5404868569 2.224088e+13 \n",
       "housing_median_age 1101454757 9.896973e+12 \n",
       "population         1049908169 7.480374e+12 \n",
       "households         1156877777 7.922140e+12 \n",
       "median_income      8288648272 7.354195e+13 \n",
       "mean_bedrooms       462307992 7.767073e+12 \n",
       "mean_rooms         1788332497 2.056660e+13 "
      ]
     },
     "metadata": {},
     "output_type": "display_data"
    }
   ],
   "source": [
    "rf_model$importance"
   ]
  },
  {
   "cell_type": "markdown",
   "metadata": {},
   "source": [
    "Percentage included mean squared error is a measure of feature importance. It is defined as the measure of the increase in mean squared error of predictions when the given variable is shuffled, thereby acting as a metric of that given variable’s importance in the performance of the model. So higher number == more important predictor."
   ]
  },
  {
   "cell_type": "code",
   "execution_count": 101,
   "metadata": {
    "collapsed": true
   },
   "outputs": [],
   "source": [
    "oob_prediction = predict(rf_model) #"
   ]
  },
  {
   "cell_type": "code",
   "execution_count": 102,
   "metadata": {},
   "outputs": [
    {
     "data": {
      "text/html": [
       "48976.2521584537"
      ],
      "text/latex": [
       "48976.2521584537"
      ],
      "text/markdown": [
       "48976.2521584537"
      ],
      "text/plain": [
       "[1] 48976.25"
      ]
     },
     "metadata": {},
     "output_type": "display_data"
    }
   ],
   "source": [
    "#you may have noticed that this is avaliable using the $mse in the model options.\n",
    "#but this way we learn stuff!\n",
    "train_mse = mean(as.numeric((oob_prediction - train_y)^2))\n",
    "oob_rmse = sqrt(train_mse)\n",
    "oob_rmse"
   ]
  },
  {
   "cell_type": "markdown",
   "metadata": {},
   "source": [
    "So even using a random forest of only 1000 decision trees we are able to predict the median price of a house in a given district to within $49,000 of the actual median house price. This can serve as our bechmark moving forward and trying other models.\n",
    "\n",
    "How well does the model predict on the test data?"
   ]
  },
  {
   "cell_type": "code",
   "execution_count": 103,
   "metadata": {},
   "outputs": [
    {
     "data": {
      "text/html": [
       "48354.9021429439"
      ],
      "text/latex": [
       "48354.9021429439"
      ],
      "text/markdown": [
       "48354.9021429439"
      ],
      "text/plain": [
       "[1] 48354.9"
      ]
     },
     "metadata": {},
     "output_type": "display_data"
    }
   ],
   "source": [
    "test_y = test[,'median_house_value']\n",
    "test_x = test[, names(test) !='median_house_value']\n",
    "\n",
    "\n",
    "y_pred = predict(rf_model , test_x)\n",
    "test_mse = mean(((y_pred - test_y)^2))\n",
    "test_rmse = sqrt(test_mse)\n",
    "test_rmse"
   ]
  },
  {
   "cell_type": "markdown",
   "metadata": {},
   "source": [
    "Well that looks great! Our model scored roughly the same on the training and testing data, suggesting that it is not overfit and that it makes good predictions."
   ]
  },
  {
   "cell_type": "code",
   "execution_count": null,
   "metadata": {
    "collapsed": true
   },
   "outputs": [],
   "source": []
  }
 ],
 "metadata": {
  "kernelspec": {
   "display_name": "R",
   "language": "R",
   "name": "ir"
  },
  "language_info": {
   "codemirror_mode": "r",
   "file_extension": ".r",
   "mimetype": "text/x-r-source",
   "name": "R",
   "pygments_lexer": "r",
   "version": "3.3.2"
  }
 },
 "nbformat": 4,
 "nbformat_minor": 2
}
